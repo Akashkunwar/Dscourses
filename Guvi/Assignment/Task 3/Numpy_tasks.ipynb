{
  "cells": [
    {
      "cell_type": "markdown",
      "metadata": {
        "id": "view-in-github",
        "colab_type": "text"
      },
      "source": [
        "<a href=\"https://colab.research.google.com/github/Akashkunwar/My-Assignments/blob/main/Numpy_tasks.ipynb\" target=\"_parent\"><img src=\"https://colab.research.google.com/assets/colab-badge.svg\" alt=\"Open In Colab\"/></a>"
      ]
    },
    {
      "cell_type": "markdown",
      "metadata": {
        "id": "tTEsEACoiaV9"
      },
      "source": [
        "# Numpy\n",
        "\n"
      ]
    },
    {
      "cell_type": "markdown",
      "metadata": {
        "id": "cISvMADCiaWF"
      },
      "source": [
        "#### 1. Import the numpy package under the name `np` (★☆☆) \n",
        "(**hint**: import … as …)"
      ]
    },
    {
      "cell_type": "code",
      "execution_count": 21,
      "metadata": {
        "collapsed": true,
        "id": "Ehj8IOLtiaWH"
      },
      "outputs": [],
      "source": [
        "import numpy as np"
      ]
    },
    {
      "cell_type": "markdown",
      "metadata": {
        "id": "eaw7KENSiaWI"
      },
      "source": [
        "#### 2. Print the numpy version and the configuration (★☆☆) \n",
        "(**hint**: np.\\_\\_version\\_\\_, np.show\\_config)"
      ]
    },
    {
      "cell_type": "code",
      "execution_count": 22,
      "metadata": {
        "id": "EjS3gM8FiaWJ",
        "colab": {
          "base_uri": "https://localhost:8080/"
        },
        "outputId": "d1278e1c-7008-4920-e28d-15c995fd6539"
      },
      "outputs": [
        {
          "output_type": "stream",
          "name": "stdout",
          "text": [
            "Numpy Version :  1.19.5\n",
            "Numpy Configuration : <function show at 0x7faf0887f320>\n"
          ]
        }
      ],
      "source": [
        "print(\"Numpy Version : \",np.__version__)\n",
        "print(\"Numpy Configuration :\",np.show_config)"
      ]
    },
    {
      "cell_type": "markdown",
      "metadata": {
        "id": "YpyQ0CLriaWJ"
      },
      "source": [
        "#### 3. Create a null vector of size 10 (★☆☆) \n",
        "(**hint**: np.zeros)"
      ]
    },
    {
      "cell_type": "code",
      "execution_count": 23,
      "metadata": {
        "id": "45X4OGnIiaWK",
        "colab": {
          "base_uri": "https://localhost:8080/"
        },
        "outputId": "10adb363-25a9-4bcd-f798-c30d865bb866"
      },
      "outputs": [
        {
          "output_type": "stream",
          "name": "stdout",
          "text": [
            "[0. 0. 0. 0. 0. 0. 0. 0. 0. 0.]\n"
          ]
        }
      ],
      "source": [
        "print(np.zeros(10))"
      ]
    },
    {
      "cell_type": "markdown",
      "metadata": {
        "id": "p9_JAcNWiaWL"
      },
      "source": [
        "#### 4.  How to find the memory size of any array (★☆☆) \n",
        "(**hint**: size, itemsize)"
      ]
    },
    {
      "cell_type": "code",
      "execution_count": 24,
      "metadata": {
        "id": "4dpcnRe_iaWM",
        "colab": {
          "base_uri": "https://localhost:8080/"
        },
        "outputId": "2f12689d-492c-483b-b06a-85a466352409"
      },
      "outputs": [
        {
          "output_type": "stream",
          "name": "stdout",
          "text": [
            "Memory size :  10\n",
            "Memory itemsize :  8\n"
          ]
        }
      ],
      "source": [
        "print(\"Memory size : \",np.zeros(10).size)\n",
        "print(\"Memory itemsize : \",np.zeros(10).itemsize)"
      ]
    },
    {
      "cell_type": "markdown",
      "metadata": {
        "id": "4znzRX97iaWN"
      },
      "source": [
        "#### 5.  How to get the documentation of the numpy add function from the command line? (★☆☆) \n",
        "(**hint**: np.info)"
      ]
    },
    {
      "cell_type": "code",
      "execution_count": 25,
      "metadata": {
        "collapsed": true,
        "id": "jVdvbFDQiaWN",
        "colab": {
          "base_uri": "https://localhost:8080/"
        },
        "outputId": "a4ed2932-0b9d-4795-89c3-aee9fc7638bb"
      },
      "outputs": [
        {
          "output_type": "stream",
          "name": "stdout",
          "text": [
            "None\n"
          ]
        }
      ],
      "source": [
        "print(np.info(np.add))"
      ]
    },
    {
      "cell_type": "markdown",
      "metadata": {
        "id": "nGLcs9WOiaWO"
      },
      "source": [
        "#### 6.  Create a null vector of size 10 but the fifth value which is 1 (★☆☆) \n",
        "(**hint**: array\\[4\\])"
      ]
    },
    {
      "cell_type": "code",
      "execution_count": 26,
      "metadata": {
        "id": "qsowhqa7iaWP",
        "colab": {
          "base_uri": "https://localhost:8080/"
        },
        "outputId": "ace80372-3c19-4920-fdde-8d1b814e3ed3"
      },
      "outputs": [
        {
          "output_type": "stream",
          "name": "stdout",
          "text": [
            "[0. 0. 0. 0. 1. 0. 0. 0. 0. 0.]\n"
          ]
        }
      ],
      "source": [
        "array=np.zeros(10)\n",
        "array[4]=1\n",
        "print(array)"
      ]
    },
    {
      "cell_type": "markdown",
      "metadata": {
        "id": "8-nsNoyEiaWP"
      },
      "source": [
        "#### 7.  Create a vector with values ranging from 10 to 49 (★☆☆) \n",
        "(**hint**: np.arange)"
      ]
    },
    {
      "cell_type": "code",
      "execution_count": 27,
      "metadata": {
        "id": "vMDKahqFiaWQ",
        "colab": {
          "base_uri": "https://localhost:8080/"
        },
        "outputId": "af1043af-70fa-4f30-cc5d-68a59c11ef15"
      },
      "outputs": [
        {
          "output_type": "stream",
          "name": "stdout",
          "text": [
            "[10 11 12 13 14 15 16 17 18 19 20 21 22 23 24 25 26 27 28 29 30 31 32 33\n",
            " 34 35 36 37 38 39 40 41 42 43 44 45 46 47 48 49]\n"
          ]
        }
      ],
      "source": [
        "vector = np.arange(10,50)\n",
        "print(vector)"
      ]
    },
    {
      "cell_type": "markdown",
      "metadata": {
        "id": "PGLVxVdAiaWQ"
      },
      "source": [
        "#### 8.  Reverse a vector (first element becomes last) (★☆☆) \n",
        "(**hint**: array\\[::-1\\])"
      ]
    },
    {
      "cell_type": "code",
      "execution_count": 28,
      "metadata": {
        "id": "XzyMlFu3iaWR",
        "colab": {
          "base_uri": "https://localhost:8080/"
        },
        "outputId": "2c4d2db8-7052-45e6-988e-a0ec25620a33"
      },
      "outputs": [
        {
          "output_type": "stream",
          "name": "stdout",
          "text": [
            "[49 48 47 46 45 44 43 42 41 40 39 38 37 36 35 34 33 32 31 30 29 28 27 26\n",
            " 25 24 23 22 21 20 19 18 17 16 15 14 13 12 11 10]\n"
          ]
        }
      ],
      "source": [
        "print(vector[::-1])"
      ]
    },
    {
      "cell_type": "markdown",
      "metadata": {
        "id": "osQQxZSpiaWR"
      },
      "source": [
        "#### 9.  Create a 3x3 matrix with values ranging from 0 to 8 (★☆☆) \n",
        "(**hint**: reshape)"
      ]
    },
    {
      "cell_type": "code",
      "execution_count": 29,
      "metadata": {
        "id": "Xud40LciiaWR",
        "colab": {
          "base_uri": "https://localhost:8080/"
        },
        "outputId": "abe1d32e-937e-4c02-c314-1f43dd2c1dbe"
      },
      "outputs": [
        {
          "output_type": "stream",
          "name": "stdout",
          "text": [
            "[[0 1 2]\n",
            " [3 4 5]\n",
            " [6 7 8]]\n"
          ]
        }
      ],
      "source": [
        "print(np.arange(0,9).reshape(3,3))"
      ]
    },
    {
      "cell_type": "markdown",
      "metadata": {
        "id": "q4OxWiWBiaWS"
      },
      "source": [
        "#### 10. Find indices of non-zero elements from \\[1,2,0,0,4,0\\] (★☆☆) \n",
        "(**hint**: np.nonzero)"
      ]
    },
    {
      "cell_type": "code",
      "execution_count": 30,
      "metadata": {
        "id": "mVUCP9jziaWS",
        "colab": {
          "base_uri": "https://localhost:8080/"
        },
        "outputId": "9f7a6fc3-e365-4ee7-fab3-54b33f74ddb6"
      },
      "outputs": [
        {
          "output_type": "stream",
          "name": "stdout",
          "text": [
            "(array([0, 1, 4]),)\n"
          ]
        }
      ],
      "source": [
        "a = np.array([1,2,0,0,4,0])\n",
        "print(np.nonzero(a))"
      ]
    },
    {
      "cell_type": "markdown",
      "metadata": {
        "id": "iJVtT9INiaWT"
      },
      "source": [
        "#### 11. Create a 3x3 identity matrix (★☆☆) \n",
        "(**hint**: np.eye)"
      ]
    },
    {
      "cell_type": "code",
      "execution_count": 31,
      "metadata": {
        "id": "JN5ZmK5ciaWT",
        "colab": {
          "base_uri": "https://localhost:8080/"
        },
        "outputId": "1d7e330f-ac1f-4d78-9ae0-fa5c60ae1acd"
      },
      "outputs": [
        {
          "output_type": "stream",
          "name": "stdout",
          "text": [
            "[[1. 0. 0.]\n",
            " [0. 1. 0.]\n",
            " [0. 0. 1.]]\n"
          ]
        }
      ],
      "source": [
        "print(np.eye(3,3))"
      ]
    },
    {
      "cell_type": "markdown",
      "metadata": {
        "id": "dP9vwI32iaWU"
      },
      "source": [
        "#### 12. Create a 3x3x3 array with random values (★☆☆) \n",
        "(**hint**: np.random.random)"
      ]
    },
    {
      "cell_type": "code",
      "execution_count": 32,
      "metadata": {
        "collapsed": true,
        "id": "ec1M7XD7iaWU",
        "colab": {
          "base_uri": "https://localhost:8080/"
        },
        "outputId": "53c8808d-9bf3-44ca-fc7f-32d28f308565"
      },
      "outputs": [
        {
          "output_type": "stream",
          "name": "stdout",
          "text": [
            "[[[0.38172645 0.55866785 0.27472315]\n",
            "  [0.62988942 0.50378749 0.51205385]\n",
            "  [0.00337406 0.32040016 0.68799072]]\n",
            "\n",
            " [[0.05644856 0.7722241  0.48646465]\n",
            "  [0.93876722 0.10554912 0.06929812]\n",
            "  [0.91202762 0.83981111 0.40808431]]\n",
            "\n",
            " [[0.2750819  0.99018323 0.66292408]\n",
            "  [0.80347653 0.0140046  0.05070342]\n",
            "  [0.19865865 0.98034438 0.76115069]]]\n"
          ]
        }
      ],
      "source": [
        "print(np.random.random((3,3,3)))"
      ]
    },
    {
      "cell_type": "markdown",
      "metadata": {
        "id": "9QlB2_mYiaWU"
      },
      "source": [
        "#### 13. Create a 10x10 array with random values and find the minimum and maximum values (★☆☆) \n",
        "(**hint**: min, max)"
      ]
    },
    {
      "cell_type": "code",
      "execution_count": 33,
      "metadata": {
        "id": "-HqJXN1EiaWU",
        "colab": {
          "base_uri": "https://localhost:8080/"
        },
        "outputId": "6621250b-2972-4139-b706-6588274086bc"
      },
      "outputs": [
        {
          "output_type": "stream",
          "name": "stdout",
          "text": [
            "[[0.13436002 0.54932076 0.10669857 0.91248998 0.47590292 0.50068913\n",
            "  0.46745414 0.26913157 0.11456191 0.94704655]\n",
            " [0.74855511 0.05034727 0.31329094 0.90507673 0.31358176 0.18236537\n",
            "  0.82962813 0.92600929 0.97525144 0.63709219]\n",
            " [0.03838271 0.00249582 0.21277107 0.89805653 0.58304984 0.56917511\n",
            "  0.69646188 0.08571929 0.89193151 0.60645299]\n",
            " [0.7521092  0.23674808 0.39124731 0.92224495 0.2627342  0.68152116\n",
            "  0.87986849 0.72233715 0.43172124 0.75145059]\n",
            " [0.92605459 0.60608247 0.04123633 0.14877701 0.5620896  0.98654721\n",
            "  0.80229759 0.5476889  0.55585167 0.23498532]\n",
            " [0.80258976 0.55236579 0.7541663  0.90938524 0.37968909 0.74467212\n",
            "  0.3655637  0.79802768 0.0904581  0.1652294 ]\n",
            " [0.63167197 0.77984168 0.37664165 0.67472238 0.10242974 0.54742672\n",
            "  0.10405619 0.32849785 0.2100916  0.77808085]\n",
            " [0.56406586 0.89873651 0.84506792 0.81048484 0.20484062 0.922304\n",
            "  0.00615663 0.73180763 0.37430849 0.70424865]\n",
            " [0.24872503 0.71453356 0.69161606 0.06506227 0.09279298 0.00546731\n",
            "  0.89984995 0.15111652 0.63562728 0.96481751]\n",
            " [0.23697267 0.32394893 0.57082631 0.37850264 0.93685888 0.07798079\n",
            "  0.82521715 0.63243886 0.09299876 0.85342567]]\n",
            "Minimum value :  0.014591304721033427\n",
            "Maximum value :  0.9717008720192762\n"
          ]
        }
      ],
      "source": [
        "print(np.random.random((10,10)))\n",
        "print(\"Minimum value : \",np.random.random((10,10)).min())\n",
        "print(\"Maximum value : \",np.random.random((10,10)).max())"
      ]
    },
    {
      "cell_type": "markdown",
      "metadata": {
        "id": "XMN08B0UiaWV"
      },
      "source": [
        "#### 14. Create a random vector of size 30 and find the mean value (★☆☆) \n",
        "(**hint**: mean)"
      ]
    },
    {
      "cell_type": "code",
      "execution_count": 34,
      "metadata": {
        "id": "AbGegQDziaWV",
        "colab": {
          "base_uri": "https://localhost:8080/"
        },
        "outputId": "f5ea0a5b-0cea-4274-aa84-f2c2c176055d"
      },
      "outputs": [
        {
          "output_type": "stream",
          "name": "stdout",
          "text": [
            "[0.85628979 0.70832995 0.09716719 0.53807397 0.58571966 0.17913686\n",
            " 0.15104517 0.58833579 0.90402962 0.87134707 0.20982759 0.70718944\n",
            " 0.39130359 0.53356322 0.55087295 0.30108321 0.85182275 0.20887234\n",
            " 0.23500992 0.0496006  0.09494954 0.0076684  0.15322793 0.70910422\n",
            " 0.18419311 0.17637637 0.50254697 0.17615308 0.79609763 0.40361596]\n",
            "Mean :  0.5201012094702936\n"
          ]
        }
      ],
      "source": [
        "print(np.random.random(30))\n",
        "print(\"Mean : \",np.random.random(30).mean())"
      ]
    },
    {
      "cell_type": "markdown",
      "metadata": {
        "id": "hk8lUoCziaWV"
      },
      "source": [
        "#### 15. Create a 2d array with 1 on the border and 0 inside (★☆☆) \n",
        "(**hint**: array\\[1:-1, 1:-1\\])"
      ]
    },
    {
      "cell_type": "code",
      "execution_count": 35,
      "metadata": {
        "id": "wMcHsMajiaWW",
        "colab": {
          "base_uri": "https://localhost:8080/"
        },
        "outputId": "d6f09a13-47e9-412a-ce1d-7c657ffb3c42"
      },
      "outputs": [
        {
          "output_type": "stream",
          "name": "stdout",
          "text": [
            "array : \n",
            " [[1. 1. 1. 1. 1.]\n",
            " [1. 1. 1. 1. 1.]\n",
            " [1. 1. 1. 1. 1.]\n",
            " [1. 1. 1. 1. 1.]\n",
            " [1. 1. 1. 1. 1.]]\n",
            "New array : \n",
            " [[1. 1. 1. 1. 1.]\n",
            " [1. 0. 0. 0. 1.]\n",
            " [1. 0. 0. 0. 1.]\n",
            " [1. 0. 0. 0. 1.]\n",
            " [1. 1. 1. 1. 1.]]\n"
          ]
        }
      ],
      "source": [
        "array = np.ones((5,5))\n",
        "print(\"\"\"array : \n",
        "\"\"\", array)\n",
        "array[1:-1, 1:-1]=0\n",
        "print(\"\"\"New array : \n",
        "\"\"\",array)"
      ]
    },
    {
      "cell_type": "markdown",
      "metadata": {
        "id": "WC_FDauriaWW"
      },
      "source": [
        "#### 16. How to add a border (filled with 0's) around an existing array? (★☆☆) \n",
        "(**hint**: np.pad)"
      ]
    },
    {
      "cell_type": "code",
      "execution_count": 36,
      "metadata": {
        "id": "z3oGXGAziaWW",
        "colab": {
          "base_uri": "https://localhost:8080/"
        },
        "outputId": "8b6f72b3-65b3-4a3f-8367-b67f00b765ce"
      },
      "outputs": [
        {
          "output_type": "stream",
          "name": "stdout",
          "text": [
            "[[0. 0. 0. 0. 0. 0. 0.]\n",
            " [0. 1. 1. 1. 1. 1. 0.]\n",
            " [0. 1. 0. 0. 0. 1. 0.]\n",
            " [0. 1. 0. 0. 0. 1. 0.]\n",
            " [0. 1. 0. 0. 0. 1. 0.]\n",
            " [0. 1. 1. 1. 1. 1. 0.]\n",
            " [0. 0. 0. 0. 0. 0. 0.]]\n"
          ]
        }
      ],
      "source": [
        "print(np.pad(array,1))"
      ]
    },
    {
      "cell_type": "markdown",
      "metadata": {
        "id": "gtq7I2HLiaWW"
      },
      "source": [
        "#### 17. What is the result of the following expression? (★☆☆) \n",
        "(**hint**: NaN = not a number, inf = infinity)"
      ]
    },
    {
      "cell_type": "markdown",
      "metadata": {
        "id": "XMGYY8o2iaWX"
      },
      "source": [
        "```python\n",
        "0 * np.nan\n",
        "np.nan == np.nan\n",
        "np.inf > np.nan\n",
        "np.nan - np.nan\n",
        "0.3 == 3 * 0.1\n",
        "```"
      ]
    },
    {
      "cell_type": "code",
      "execution_count": 37,
      "metadata": {
        "id": "B1KPgJADiaWX",
        "colab": {
          "base_uri": "https://localhost:8080/"
        },
        "outputId": "515f9c32-0127-45d3-d64c-b2d88aa10fac"
      },
      "outputs": [
        {
          "output_type": "stream",
          "name": "stdout",
          "text": [
            "nan\n",
            "False\n",
            "False\n",
            "nan\n",
            "False\n"
          ]
        }
      ],
      "source": [
        "print(0 * np.nan)\n",
        "print(np.nan == np.nan)\n",
        "print(np.inf > np.nan)\n",
        "print(np.nan - np.nan)\n",
        "print(0.3 == 3 * 0.1)"
      ]
    },
    {
      "cell_type": "markdown",
      "metadata": {
        "id": "1HxAiqk9iaWX"
      },
      "source": [
        "#### 18. Create a 5x5 matrix with values 1,2,3,4 just below the diagonal (★☆☆) \n",
        "(**hint**: np.diag)"
      ]
    },
    {
      "cell_type": "code",
      "execution_count": 38,
      "metadata": {
        "id": "Z3AMnR89iaWY",
        "colab": {
          "base_uri": "https://localhost:8080/"
        },
        "outputId": "776593fe-98e1-41b3-cab9-4dcdd2431364"
      },
      "outputs": [
        {
          "output_type": "stream",
          "name": "stdout",
          "text": [
            "[[0 0 0 0 0]\n",
            " [1 0 0 0 0]\n",
            " [0 2 0 0 0]\n",
            " [0 0 3 0 0]\n",
            " [0 0 0 4 0]]\n"
          ]
        }
      ],
      "source": [
        "diagonal = np.diag(1+np.arange(4),k=-1)\n",
        "print(diagonal)"
      ]
    },
    {
      "cell_type": "markdown",
      "metadata": {
        "id": "D-3TGyHIiaWY"
      },
      "source": [
        "#### 19. Create a 8x8 matrix and fill it with a checkerboard pattern (★☆☆) \n",
        "(**hint**: array\\[::2\\])"
      ]
    },
    {
      "cell_type": "code",
      "source": [
        "checkerboard = np.zeros((8,8),dtype=int)\n",
        "checkerboard[1::2,::2] = 1\n",
        "checkerboard[::2,1::2] = 1\n",
        "print(checkerboard)"
      ],
      "metadata": {
        "colab": {
          "base_uri": "https://localhost:8080/"
        },
        "id": "2_0crwWZ1at2",
        "outputId": "37d75eca-dd5d-433c-8777-729917417219"
      },
      "execution_count": 39,
      "outputs": [
        {
          "output_type": "stream",
          "name": "stdout",
          "text": [
            "[[0 1 0 1 0 1 0 1]\n",
            " [1 0 1 0 1 0 1 0]\n",
            " [0 1 0 1 0 1 0 1]\n",
            " [1 0 1 0 1 0 1 0]\n",
            " [0 1 0 1 0 1 0 1]\n",
            " [1 0 1 0 1 0 1 0]\n",
            " [0 1 0 1 0 1 0 1]\n",
            " [1 0 1 0 1 0 1 0]]\n"
          ]
        }
      ]
    },
    {
      "cell_type": "markdown",
      "metadata": {
        "id": "S6FDbLuCiaWZ"
      },
      "source": [
        "#### 20. Consider a (6,7,8) shape array, what is the index (x,y,z) of the 100th element? \n",
        "(**hint**: np.unravel_index)"
      ]
    },
    {
      "cell_type": "code",
      "source": [
        "print(np.unravel_index(99,(6,7,8)))"
      ],
      "metadata": {
        "colab": {
          "base_uri": "https://localhost:8080/"
        },
        "id": "qxlO4gf45ODO",
        "outputId": "4bb71e19-0482-4eb0-a837-f958b97a6f3c"
      },
      "execution_count": 40,
      "outputs": [
        {
          "output_type": "stream",
          "name": "stdout",
          "text": [
            "(1, 5, 3)\n"
          ]
        }
      ]
    },
    {
      "cell_type": "markdown",
      "metadata": {
        "id": "RWf4NdvDiaWZ"
      },
      "source": [
        "#### 21. Create a checkerboard 8x8 matrix using the tile function (★☆☆) \n",
        "(**hint**: np.tile)"
      ]
    },
    {
      "cell_type": "code",
      "execution_count": 41,
      "metadata": {
        "id": "vwSD7PRqiaWa",
        "colab": {
          "base_uri": "https://localhost:8080/"
        },
        "outputId": "17e85088-131a-4962-8f5b-4b03ca3befb7"
      },
      "outputs": [
        {
          "output_type": "stream",
          "name": "stdout",
          "text": [
            "[[0 1 0 1 0 1 0 1]\n",
            " [1 0 1 0 1 0 1 0]\n",
            " [0 1 0 1 0 1 0 1]\n",
            " [1 0 1 0 1 0 1 0]\n",
            " [0 1 0 1 0 1 0 1]\n",
            " [1 0 1 0 1 0 1 0]\n",
            " [0 1 0 1 0 1 0 1]\n",
            " [1 0 1 0 1 0 1 0]]\n"
          ]
        }
      ],
      "source": [
        "cb = np.array([[0,1],[1,0]])\n",
        "print(np.tile(cb,(4,4)))"
      ]
    },
    {
      "cell_type": "markdown",
      "metadata": {
        "id": "VDMwhUUfiaWa"
      },
      "source": [
        "#### 22. Normalize a 5x5 random matrix (★☆☆) \n",
        "(**hint**: (x - min) / (max - min))"
      ]
    },
    {
      "cell_type": "code",
      "execution_count": 42,
      "metadata": {
        "id": "UkTL6u_XiaWa",
        "colab": {
          "base_uri": "https://localhost:8080/"
        },
        "outputId": "41062cdf-6959-4a54-b095-bba49558b703"
      },
      "outputs": [
        {
          "output_type": "stream",
          "name": "stdout",
          "text": [
            "[[ 0.34040945  0.59485746  0.2944282  -0.0096721   0.24695606]\n",
            " [ 0.15980213  0.94887446  0.73626124  0.27690305  0.21993986]\n",
            " [ 0.73907724  0.76631395  0.40899643  0.56812942  0.55780315]\n",
            " [ 0.31940633  0.07991     0.49986964  0.47544008 -0.02364779]\n",
            " [ 0.05134619  0.50289331  0.55977752 -0.02187282  0.90787515]]\n"
          ]
        }
      ],
      "source": [
        "normalize = np.random.random((5,5))\n",
        "print((normalize - normalize.min()) / (normalize.max()) - normalize.min())"
      ]
    },
    {
      "cell_type": "markdown",
      "metadata": {
        "id": "9qiiTZRCiaWa"
      },
      "source": [
        "#### 23. Create a custom dtype that describes a color as four unsigned bytes (RGBA) (★☆☆) \n",
        "(**hint**: np.dtype)"
      ]
    },
    {
      "cell_type": "code",
      "source": [
        "print(np.dtype([(\"r\", np.ubyte),\n",
        "                  (\"g\", np.ubyte),\n",
        "                  (\"b\", np.ubyte),\n",
        "                  (\"a\", np.ubyte)]))"
      ],
      "metadata": {
        "colab": {
          "base_uri": "https://localhost:8080/"
        },
        "id": "IPOuaNYc_GWR",
        "outputId": "3bdce072-24de-4614-a259-1c5892c28e12"
      },
      "execution_count": 43,
      "outputs": [
        {
          "output_type": "stream",
          "name": "stdout",
          "text": [
            "[('r', 'u1'), ('g', 'u1'), ('b', 'u1'), ('a', 'u1')]\n"
          ]
        }
      ]
    },
    {
      "cell_type": "markdown",
      "metadata": {
        "id": "ZXNQRXVsiaWb"
      },
      "source": [
        "#### 24. Multiply a 5x3 matrix by a 3x2 matrix (real matrix product) (★☆☆) \n",
        "(**hint**: np.dot | @)"
      ]
    },
    {
      "cell_type": "code",
      "execution_count": 44,
      "metadata": {
        "id": "wZvuqNvAiaWb",
        "colab": {
          "base_uri": "https://localhost:8080/"
        },
        "outputId": "fbac49c7-7a8e-48e7-90a3-7dc971e082ba"
      },
      "outputs": [
        {
          "output_type": "stream",
          "name": "stdout",
          "text": [
            "[[0.72017631 0.78838405]\n",
            " [0.51210266 0.56222587]\n",
            " [1.18865648 1.32991121]\n",
            " [0.98533858 0.93495599]\n",
            " [1.29238792 1.37136313]]\n",
            "[[0.72017631 0.78838405]\n",
            " [0.51210266 0.56222587]\n",
            " [1.18865648 1.32991121]\n",
            " [0.98533858 0.93495599]\n",
            " [1.29238792 1.37136313]]\n"
          ]
        }
      ],
      "source": [
        "a = np.random.random((5,3))\n",
        "b = np.random.random((3,2))\n",
        "print(a@b)\n",
        "print(np.dot(a,b))"
      ]
    },
    {
      "cell_type": "markdown",
      "metadata": {
        "id": "-BRg86SViaWb"
      },
      "source": [
        "#### 25. Given a 1D array, negate all elements which are between 3 and 8, in place. (★☆☆) \n",
        "(**hint**: >, <=)"
      ]
    },
    {
      "cell_type": "code",
      "execution_count": 45,
      "metadata": {
        "id": "PVdxgwCdiaWc",
        "colab": {
          "base_uri": "https://localhost:8080/"
        },
        "outputId": "52b8b625-6fd3-4a07-bb25-90d1634e5c64"
      },
      "outputs": [
        {
          "output_type": "stream",
          "name": "stdout",
          "text": [
            "[ 0  1  2  3 -4 -5 -6 -7  8  9 10]\n"
          ]
        }
      ],
      "source": [
        "neg = np.arange(11)\n",
        "neg[(3 < neg) & (neg < 8)] *= -1\n",
        "print(neg)"
      ]
    },
    {
      "cell_type": "markdown",
      "metadata": {
        "id": "JHFJA9AqiaWc"
      },
      "source": [
        "#### 26. What is the output of the following script? (★☆☆) \n",
        "(**hint**: np.sum)"
      ]
    },
    {
      "cell_type": "markdown",
      "metadata": {
        "id": "QY1qbN6viaWc"
      },
      "source": [
        "```python\n",
        "# Author: Jake VanderPlas\n",
        "\n",
        "print(sum(range(5),-1))\n",
        "from numpy import *\n",
        "print(sum(range(5),-1))\n",
        "```"
      ]
    },
    {
      "cell_type": "code",
      "execution_count": 46,
      "metadata": {
        "id": "Fj9SinMTiaWc",
        "colab": {
          "base_uri": "https://localhost:8080/"
        },
        "outputId": "6e5e4c2c-1034-4d58-9d11-036f68a09aca"
      },
      "outputs": [
        {
          "output_type": "stream",
          "name": "stdout",
          "text": [
            "9\n",
            "10\n"
          ]
        }
      ],
      "source": [
        "print(sum(range(5),-1))\n",
        "from numpy import *\n",
        "print(sum(range(5),-1))"
      ]
    },
    {
      "cell_type": "markdown",
      "metadata": {
        "id": "aWpqYBvLiaWd"
      },
      "source": [
        "#### 27. Consider an integer vector Z, which of these expressions are legal? (★☆☆)"
      ]
    },
    {
      "cell_type": "markdown",
      "metadata": {
        "id": "OZxTojt8iaWd"
      },
      "source": [
        "```python\n",
        "Z**Z\n",
        "2 << Z >> 2\n",
        "Z <- Z\n",
        "1j*Z\n",
        "Z/1/1\n",
        "Z<Z>Z\n",
        "```"
      ]
    },
    {
      "cell_type": "code",
      "execution_count": 47,
      "metadata": {
        "id": "-MQ7UtuhiaWd"
      },
      "outputs": [],
      "source": [
        "# Z**Z\n",
        "# 2 << Z >> 2\n",
        "# Z <- Z\n",
        "# 1j*Z\n",
        "# Z/1/1\n",
        "# Z<Z>Z"
      ]
    },
    {
      "cell_type": "markdown",
      "metadata": {
        "id": "X2Q3d0kniaWe"
      },
      "source": [
        "#### 28. What are the result of the following expressions?"
      ]
    },
    {
      "cell_type": "markdown",
      "metadata": {
        "id": "Ny7c89q6iaWe"
      },
      "source": [
        "```python\n",
        "np.array(0) / np.array(0)\n",
        "np.array(0) // np.array(0)\n",
        "np.array([np.nan]).astype(int).astype(float)\n",
        "```"
      ]
    },
    {
      "cell_type": "code",
      "execution_count": 48,
      "metadata": {
        "id": "dNARj8QTiaWe",
        "colab": {
          "base_uri": "https://localhost:8080/"
        },
        "outputId": "7060536a-048d-448d-c596-501cb08a54e1"
      },
      "outputs": [
        {
          "output_type": "stream",
          "name": "stdout",
          "text": [
            "nan\n",
            "0\n",
            "[-9.22337204e+18]\n"
          ]
        },
        {
          "output_type": "stream",
          "name": "stderr",
          "text": [
            "/usr/local/lib/python3.7/dist-packages/ipykernel_launcher.py:1: RuntimeWarning: invalid value encountered in true_divide\n",
            "  \"\"\"Entry point for launching an IPython kernel.\n",
            "/usr/local/lib/python3.7/dist-packages/ipykernel_launcher.py:2: RuntimeWarning: divide by zero encountered in floor_divide\n",
            "  \n"
          ]
        }
      ],
      "source": [
        "print(np.array(0) / np.array(0))\n",
        "print(np.array(0) // np.array(0))\n",
        "print(np.array([np.nan]).astype(int).astype(float))"
      ]
    },
    {
      "cell_type": "markdown",
      "metadata": {
        "id": "BQH2acmZiaWe"
      },
      "source": [
        "#### 29. How to round away from zero a float array ? (★☆☆) \n",
        "(**hint**: np.uniform, np.copysign, np.ceil, np.abs)"
      ]
    },
    {
      "cell_type": "code",
      "source": [
        "round = np.random.uniform(-10,+10,10)\n",
        "print(round)\n",
        "print(np.round(round))"
      ],
      "metadata": {
        "colab": {
          "base_uri": "https://localhost:8080/"
        },
        "id": "5-Zj1mbAKlWl",
        "outputId": "8a53b7b3-e7b9-44c0-8058-fa89c34e2a8c"
      },
      "execution_count": 49,
      "outputs": [
        {
          "output_type": "stream",
          "name": "stdout",
          "text": [
            "[-7.96316259 -3.09634186 -3.16120311  7.09056238  7.82148389  3.21531307\n",
            "  1.82957744  3.40100922  8.28747677 -0.2515809 ]\n",
            "[-8. -3. -3.  7.  8.  3.  2.  3.  8. -0.]\n"
          ]
        }
      ]
    },
    {
      "cell_type": "markdown",
      "metadata": {
        "id": "MRWRDxrziaWf"
      },
      "source": [
        "#### 30. How to find common values between two arrays? (★☆☆) \n",
        "(**hint**: np.intersect1d)"
      ]
    },
    {
      "cell_type": "code",
      "execution_count": 50,
      "metadata": {
        "id": "jXoufNUiiaWf",
        "colab": {
          "base_uri": "https://localhost:8080/"
        },
        "outputId": "d80797d4-8d5c-4669-b353-3646e0f4296d"
      },
      "outputs": [
        {
          "output_type": "stream",
          "name": "stdout",
          "text": [
            "[1 2 4 7 8]\n"
          ]
        }
      ],
      "source": [
        "array1 = np.random.randint(0,10,10)\n",
        "array2 = np.random.randint(0,10,10)\n",
        "print(np.intersect1d(array1,array2))"
      ]
    },
    {
      "cell_type": "markdown",
      "metadata": {
        "id": "wGUL1fUxiaWf"
      },
      "source": [
        "#### 31. How to ignore all numpy warnings (not recommended)? (★☆☆) \n",
        "(**hint**: np.seterr, np.errstate)"
      ]
    },
    {
      "cell_type": "code",
      "execution_count": 51,
      "metadata": {
        "id": "hSkfk2_jiaWg",
        "colab": {
          "base_uri": "https://localhost:8080/"
        },
        "outputId": "678c7459-23d6-4acb-87de-449b66d025c5"
      },
      "outputs": [
        {
          "output_type": "stream",
          "name": "stderr",
          "text": [
            "/usr/local/lib/python3.7/dist-packages/numpy/lib/nanfunctions.py:1114: RuntimeWarning: All-NaN slice encountered\n",
            "  overwrite_input=overwrite_input)\n"
          ]
        },
        {
          "output_type": "execute_result",
          "data": {
            "text/plain": [
              "array([nan, nan, nan, nan, nan, nan, nan, nan, nan, nan])"
            ]
          },
          "metadata": {},
          "execution_count": 51
        }
      ],
      "source": [
        "data = np.random.random(1000).reshape(10, 10,10) * np.nan\n",
        "np.seterr(all=\"ignore\")\n",
        "np.nanmedian(data, axis=[1, 2])"
      ]
    },
    {
      "cell_type": "markdown",
      "metadata": {
        "id": "mNKt0hgxiaWg"
      },
      "source": [
        "#### 32. Is the following expressions true? (★☆☆) \n",
        "(**hint**: imaginary number)"
      ]
    },
    {
      "cell_type": "markdown",
      "metadata": {
        "id": "XCfoD2OviaWg"
      },
      "source": [
        "```python\n",
        "np.sqrt(-1) == np.emath.sqrt(-1)\n",
        "```"
      ]
    },
    {
      "cell_type": "code",
      "execution_count": 52,
      "metadata": {
        "id": "jLCtRpONiaWg",
        "colab": {
          "base_uri": "https://localhost:8080/"
        },
        "outputId": "10576594-bb17-4e02-faa1-ce6c71c8c592"
      },
      "outputs": [
        {
          "output_type": "stream",
          "name": "stdout",
          "text": [
            "False\n"
          ]
        }
      ],
      "source": [
        "print(np.sqrt(-1) == np.emath.sqrt(-1))"
      ]
    },
    {
      "cell_type": "markdown",
      "metadata": {
        "id": "q6N7CNeQiaWg"
      },
      "source": [
        "#### 33. How to get the dates of yesterday, today and tomorrow? (★☆☆) \n",
        "(**hint**: np.datetime64, np.timedelta64)"
      ]
    },
    {
      "cell_type": "code",
      "execution_count": 53,
      "metadata": {
        "collapsed": true,
        "id": "HPlP48CXiaWh",
        "colab": {
          "base_uri": "https://localhost:8080/"
        },
        "outputId": "1e91d067-75b5-4e37-9b10-a562e803b4ae"
      },
      "outputs": [
        {
          "output_type": "stream",
          "name": "stdout",
          "text": [
            "Yesterday :  2022-02-05\n",
            "Today     :  2022-02-06\n",
            "Tomorrow  :  2022-02-07\n"
          ]
        }
      ],
      "source": [
        "print(\"Yesterday : \",np.datetime64('today') - np.timedelta64(1))\n",
        "print(\"Today     : \",np.datetime64('today'))\n",
        "print(\"Tomorrow  : \",np.datetime64('today') + np.timedelta64(1))"
      ]
    },
    {
      "cell_type": "markdown",
      "metadata": {
        "id": "bGQgkbCyiaWh"
      },
      "source": [
        "#### 34. How to get all the dates corresponding to the month of July 2016? (★★☆) \n",
        "(**hint**: np.arange(dtype=datetime64\\['D'\\]))"
      ]
    },
    {
      "cell_type": "code",
      "execution_count": 54,
      "metadata": {
        "id": "-iYou9p5iaWh",
        "colab": {
          "base_uri": "https://localhost:8080/"
        },
        "outputId": "85a3f9b0-fc83-43d9-ee78-0376c5fb257e"
      },
      "outputs": [
        {
          "output_type": "stream",
          "name": "stdout",
          "text": [
            "Dates corresponding to the month of July 2016 :\n",
            " ['2016-07-01' '2016-07-02' '2016-07-03' '2016-07-04' '2016-07-05'\n",
            " '2016-07-06' '2016-07-07' '2016-07-08' '2016-07-09' '2016-07-10'\n",
            " '2016-07-11' '2016-07-12' '2016-07-13' '2016-07-14' '2016-07-15'\n",
            " '2016-07-16' '2016-07-17' '2016-07-18' '2016-07-19' '2016-07-20'\n",
            " '2016-07-21' '2016-07-22' '2016-07-23' '2016-07-24' '2016-07-25'\n",
            " '2016-07-26' '2016-07-27' '2016-07-28' '2016-07-29' '2016-07-30'\n",
            " '2016-07-31']\n"
          ]
        }
      ],
      "source": [
        "print(\"\"\"Dates corresponding to the month of July 2016 :\n",
        "\"\"\",np.arange('2016-07','2016-08',dtype='datetime64[D]'))"
      ]
    },
    {
      "cell_type": "markdown",
      "metadata": {
        "id": "499Sjd0hiaWh"
      },
      "source": [
        "#### 35. How to compute ((A+B)\\*(-A/2)) in place (without copy)? (★★☆) \n",
        "(**hint**: np.add(out=), np.negative(out=), np.multiply(out=), np.divide(out=))"
      ]
    },
    {
      "cell_type": "code",
      "execution_count": 55,
      "metadata": {
        "id": "q_ZlOmCviaWi",
        "colab": {
          "base_uri": "https://localhost:8080/"
        },
        "outputId": "697631df-f1f1-425a-f9e4-9aca998b73e3"
      },
      "outputs": [
        {
          "output_type": "stream",
          "name": "stdout",
          "text": [
            "50.0\n",
            "50.0\n"
          ]
        }
      ],
      "source": [
        "A = -10\n",
        "B = 20\n",
        "z = ((A+B)*(-A/2))\n",
        "print(z)\n",
        "\n",
        "B = np.add(A,B)\n",
        "A = np.divide(A,2)\n",
        "A = np.negative(A)\n",
        "A = np.multiply(A,B)\n",
        "print(A)"
      ]
    },
    {
      "cell_type": "markdown",
      "metadata": {
        "id": "REBNQ2ZeiaWi"
      },
      "source": [
        "#### 36. Extract the integer part of a random array using 5 different methods (★★☆) \n",
        "(**hint**: %, np.floor, np.ceil, astype, np.trunc)"
      ]
    },
    {
      "cell_type": "code",
      "execution_count": 56,
      "metadata": {
        "id": "m7dH7dATiaWi",
        "colab": {
          "base_uri": "https://localhost:8080/"
        },
        "outputId": "2fa3d345-5eab-4728-beda-672869584b7f"
      },
      "outputs": [
        {
          "output_type": "stream",
          "name": "stdout",
          "text": [
            "[2. 1. 1. 2. 9.]\n",
            "[2. 1. 1. 2. 9.]\n",
            "[2 1 1 2 9]\n",
            "[ 3.  2.  2.  3. 10.]\n",
            "[2. 1. 1. 2. 9.]\n"
          ]
        }
      ],
      "source": [
        "z = np.random.uniform(0,10,5)\n",
        "print(np.trunc(z))\n",
        "print(z-z%1)\n",
        "print(z.astype(int))\n",
        "print(np.ceil(z))\n",
        "print(np.floor(z))"
      ]
    },
    {
      "cell_type": "markdown",
      "metadata": {
        "id": "8KUBVNzCiaWi"
      },
      "source": [
        "#### 37. Create a 5x5 matrix with row values ranging from 0 to 4 (★★☆) \n",
        "(**hint**: np.arange)"
      ]
    },
    {
      "cell_type": "code",
      "execution_count": 57,
      "metadata": {
        "id": "drTZSDi4iaWi",
        "colab": {
          "base_uri": "https://localhost:8080/"
        },
        "outputId": "2f16fa51-0c3c-40ab-ec56-d96951dcd46f"
      },
      "outputs": [
        {
          "output_type": "stream",
          "name": "stdout",
          "text": [
            "[[0. 1. 2. 3. 4.]\n",
            " [0. 1. 2. 3. 4.]\n",
            " [0. 1. 2. 3. 4.]\n",
            " [0. 1. 2. 3. 4.]\n",
            " [0. 1. 2. 3. 4.]]\n"
          ]
        }
      ],
      "source": [
        "value = np.zeros((5,5))\n",
        "print(value + np.arange(5))"
      ]
    },
    {
      "cell_type": "markdown",
      "metadata": {
        "id": "Jd2sKUxfiaWj"
      },
      "source": [
        "#### 38. Consider a generator function that generates 10 integers and use it to build an array (★☆☆) \n",
        "(**hint**: np.fromiter)"
      ]
    },
    {
      "cell_type": "code",
      "execution_count": 58,
      "metadata": {
        "id": "i1tb_j6XiaWj",
        "colab": {
          "base_uri": "https://localhost:8080/"
        },
        "outputId": "449029eb-fd0e-4fbd-c287-74e82bb8d287"
      },
      "outputs": [
        {
          "output_type": "stream",
          "name": "stdout",
          "text": [
            "[84 16 10 49  1 44 17 55 23  9]\n"
          ]
        }
      ],
      "source": [
        "def generate():\n",
        "  a = np.random.uniform(0,100,10)\n",
        "  return a\n",
        "\n",
        "b = generate()\n",
        "\n",
        "int_array = b.astype(int)\n",
        "print(int_array)"
      ]
    },
    {
      "cell_type": "markdown",
      "metadata": {
        "id": "jba-I_TziaWj"
      },
      "source": [
        "#### 39. Create a vector of size 10 with values ranging from 0 to 1, both excluded (★★☆) \n",
        "(**hint**: np.linspace)"
      ]
    },
    {
      "cell_type": "code",
      "execution_count": 59,
      "metadata": {
        "id": "dc5uMbrBiaWj",
        "colab": {
          "base_uri": "https://localhost:8080/"
        },
        "outputId": "53784377-6d83-41e0-981f-ccbf8e4b41cf"
      },
      "outputs": [
        {
          "output_type": "stream",
          "name": "stdout",
          "text": [
            "[0.         0.11111111 0.22222222 0.33333333 0.44444444 0.55555556\n",
            " 0.66666667 0.77777778 0.88888889 1.        ]\n"
          ]
        }
      ],
      "source": [
        "print(np.linspace(0,1, num=10))"
      ]
    },
    {
      "cell_type": "markdown",
      "metadata": {
        "id": "khmumEcXiaWk"
      },
      "source": [
        "#### 40. Create a random vector of size 10 and sort it (★★☆) \n",
        "(**hint**: sort)"
      ]
    },
    {
      "cell_type": "code",
      "execution_count": 60,
      "metadata": {
        "id": "nJ9mx3M0iaWk",
        "colab": {
          "base_uri": "https://localhost:8080/"
        },
        "outputId": "92833f6f-ab24-464b-e851-d4f71a867664"
      },
      "outputs": [
        {
          "output_type": "stream",
          "name": "stdout",
          "text": [
            "[2 7 8 6 0 6 5 7 7 3]\n",
            "[0 2 3 5 6 6 7 7 7 8]\n"
          ]
        }
      ],
      "source": [
        "a = np.random.uniform(0,10,10)\n",
        "print(a.astype(int))\n",
        "a.sort()\n",
        "print(a.astype(int))"
      ]
    },
    {
      "cell_type": "markdown",
      "metadata": {
        "id": "2Q29DiteiaWk"
      },
      "source": [
        "#### 41. How to sum a small array faster than np.sum? (★★☆) \n",
        "(**hint**: np.add.reduce)"
      ]
    },
    {
      "cell_type": "code",
      "execution_count": 61,
      "metadata": {
        "id": "lDpC0xETiaWk",
        "colab": {
          "base_uri": "https://localhost:8080/"
        },
        "outputId": "b035f24f-5cd6-4da3-92b9-3b33b09bc1b7"
      },
      "outputs": [
        {
          "output_type": "stream",
          "name": "stdout",
          "text": [
            "CPU times: user 3 µs, sys: 1 µs, total: 4 µs\n",
            "Wall time: 8.58 µs\n"
          ]
        },
        {
          "output_type": "execute_result",
          "data": {
            "text/plain": [
              "10"
            ]
          },
          "metadata": {},
          "execution_count": 61
        }
      ],
      "source": [
        "%time\n",
        "a = np.arange(5)\n",
        "np.add.reduce(a)"
      ]
    },
    {
      "cell_type": "code",
      "source": [
        "%time\n",
        "a = np.arange(5)\n",
        "np.sum(a)"
      ],
      "metadata": {
        "colab": {
          "base_uri": "https://localhost:8080/"
        },
        "id": "3BxMNw7dc4gu",
        "outputId": "861b7797-a19b-4d88-b81e-1c30b7eadc56"
      },
      "execution_count": 62,
      "outputs": [
        {
          "output_type": "stream",
          "name": "stdout",
          "text": [
            "CPU times: user 4 µs, sys: 1 µs, total: 5 µs\n",
            "Wall time: 8.11 µs\n"
          ]
        },
        {
          "output_type": "execute_result",
          "data": {
            "text/plain": [
              "10"
            ]
          },
          "metadata": {},
          "execution_count": 62
        }
      ]
    },
    {
      "cell_type": "markdown",
      "metadata": {
        "id": "rsPRQUMWiaWk"
      },
      "source": [
        "#### 42. Consider two random array A and B, check if they are equal (★★☆) \n",
        "(**hint**: np.allclose, np.array\\_equal)"
      ]
    },
    {
      "cell_type": "code",
      "execution_count": 63,
      "metadata": {
        "id": "f9wVho12iaWl",
        "colab": {
          "base_uri": "https://localhost:8080/"
        },
        "outputId": "475fc171-886c-42ba-ec83-dbf4242fca7b"
      },
      "outputs": [
        {
          "output_type": "stream",
          "name": "stdout",
          "text": [
            "False\n"
          ]
        }
      ],
      "source": [
        "a = np.random.uniform(0,10,10).astype(int)\n",
        "b = np.random.uniform(0,10,10).astype(int)\n",
        "print(np.array_equal(a,b))"
      ]
    },
    {
      "cell_type": "markdown",
      "metadata": {
        "id": "co7KQz2viaWl"
      },
      "source": [
        "#### 43. Make an array immutable (read-only) (★★☆) \n",
        "(**hint**: flags.writeable)"
      ]
    },
    {
      "cell_type": "code",
      "execution_count": 64,
      "metadata": {
        "id": "hSPDRRKTiaWl"
      },
      "outputs": [],
      "source": [
        "array = np.arange(10)\n",
        "array.flags.writeable = False"
      ]
    },
    {
      "cell_type": "markdown",
      "metadata": {
        "id": "XFJzDJFsiaWl"
      },
      "source": [
        "#### 44. Consider a random 10x2 matrix representing cartesian coordinates, convert them to polar coordinates (★★☆) \n",
        "(**hint**: np.sqrt, np.arctan2)"
      ]
    },
    {
      "cell_type": "code",
      "source": [
        "Z = np.random.random((10,2))\n",
        "X,Y = Z[:,0], Z[:,1]\n",
        "R = np.sqrt(X**2+Y**2)\n",
        "T = np.arctan2(Y,X)\n",
        "print(R)\n",
        "print(T)"
      ],
      "metadata": {
        "colab": {
          "base_uri": "https://localhost:8080/"
        },
        "id": "bm57YYG6d-jt",
        "outputId": "5cdcd53c-09e9-4855-8685-b295a6fb904f"
      },
      "execution_count": 65,
      "outputs": [
        {
          "output_type": "stream",
          "name": "stdout",
          "text": [
            "[0.94892578 0.6967751  0.41019988 0.92306085 0.77184075 0.84929735\n",
            " 0.54775291 0.71958712 0.86679359 0.99337912]\n",
            "[0.34712241 0.19568499 0.68151885 1.35807139 0.18670026 0.06237613\n",
            " 0.2020917  0.56881695 0.87689147 0.73650407]\n"
          ]
        }
      ]
    },
    {
      "cell_type": "markdown",
      "metadata": {
        "id": "A_45DyQtiaWm"
      },
      "source": [
        "#### 45. Create random vector of size 10 and replace the maximum value by 0 (★★☆) \n",
        "(**hint**: argmax)"
      ]
    },
    {
      "cell_type": "code",
      "execution_count": 66,
      "metadata": {
        "id": "vfixcTEYiaWm",
        "colab": {
          "base_uri": "https://localhost:8080/"
        },
        "outputId": "43fbe4b4-a281-488e-de6a-24c3613be36d"
      },
      "outputs": [
        {
          "output_type": "stream",
          "name": "stdout",
          "text": [
            "Vector : \n",
            " [63 39 40 63 43  3 49 21 30 98]\n",
            "New Vector : \n",
            " [63 39 40 63 43  3 49 21 30  0]\n"
          ]
        }
      ],
      "source": [
        "vec = np.random.randint(100, size=10)\n",
        "print(\"\"\"Vector : \n",
        "\"\"\", vec)\n",
        "indexes = np.where(vec == vec.max())\n",
        "vec[indexes]=0\n",
        "print(\"\"\"New Vector : \n",
        "\"\"\", vec)"
      ]
    },
    {
      "cell_type": "markdown",
      "metadata": {
        "id": "V0f-ywOQiaWm"
      },
      "source": [
        "#### 46. Create a structured array with `x` and `y` coordinates covering the \\[0,1\\]x\\[0,1\\] area (★★☆) \n",
        "(**hint**: np.meshgrid)"
      ]
    },
    {
      "cell_type": "code",
      "execution_count": 66,
      "metadata": {
        "id": "rn0zFAMliaWm"
      },
      "outputs": [],
      "source": [
        ""
      ]
    },
    {
      "cell_type": "markdown",
      "metadata": {
        "id": "AejSYFlwiaWn"
      },
      "source": [
        "####  47. Given two arrays, X and Y, construct the Cauchy matrix C (Cij =1/(xi - yj)) \n",
        "(**hint**: np.subtract.outer)"
      ]
    },
    {
      "cell_type": "code",
      "execution_count": 67,
      "metadata": {
        "id": "vzvf2RxtiaWn",
        "colab": {
          "base_uri": "https://localhost:8080/"
        },
        "outputId": "a3105b65-8b1d-4bc4-a3e0-485eb2fb2012"
      },
      "outputs": [
        {
          "output_type": "stream",
          "name": "stdout",
          "text": [
            "3638.1636371179666\n"
          ]
        }
      ],
      "source": [
        "X = np.arange(8)\n",
        "Y = X + 0.5\n",
        "C = 1.0 / np.subtract.outer(X, Y)\n",
        "print(np.linalg.det(C))"
      ]
    },
    {
      "cell_type": "markdown",
      "metadata": {
        "id": "9KBuNDYjiaWn"
      },
      "source": [
        "#### 48. Print the minimum and maximum representable value for each numpy scalar type (★★☆) \n",
        "(**hint**: np.iinfo, np.finfo, eps)"
      ]
    },
    {
      "cell_type": "code",
      "execution_count": 67,
      "metadata": {
        "id": "6W6lhoimiaWn"
      },
      "outputs": [],
      "source": [
        ""
      ]
    },
    {
      "cell_type": "markdown",
      "metadata": {
        "id": "rvkuae-9iaWo"
      },
      "source": [
        "#### 49. How to print all the values of an array? (★★☆) \n",
        "(**hint**: np.set\\_printoptions)"
      ]
    },
    {
      "cell_type": "code",
      "execution_count": 68,
      "metadata": {
        "id": "U6Z3eZTOiaWo",
        "colab": {
          "base_uri": "https://localhost:8080/"
        },
        "outputId": "bc6dcb4e-a3a3-4c83-f170-3193a0cf06db"
      },
      "outputs": [
        {
          "output_type": "stream",
          "name": "stdout",
          "text": [
            "[[0. 0. 0. 0. 0. 0. 0. 0. 0. 0. 0. 0. 0. 0. 0. 0. 0. 0. 0. 0. 0. 0. 0. 0.\n",
            "  0. 0. 0. 0. 0. 0. 0. 0. 0. 0. 0. 0. 0. 0. 0. 0.]\n",
            " [0. 0. 0. 0. 0. 0. 0. 0. 0. 0. 0. 0. 0. 0. 0. 0. 0. 0. 0. 0. 0. 0. 0. 0.\n",
            "  0. 0. 0. 0. 0. 0. 0. 0. 0. 0. 0. 0. 0. 0. 0. 0.]\n",
            " [0. 0. 0. 0. 0. 0. 0. 0. 0. 0. 0. 0. 0. 0. 0. 0. 0. 0. 0. 0. 0. 0. 0. 0.\n",
            "  0. 0. 0. 0. 0. 0. 0. 0. 0. 0. 0. 0. 0. 0. 0. 0.]\n",
            " [0. 0. 0. 0. 0. 0. 0. 0. 0. 0. 0. 0. 0. 0. 0. 0. 0. 0. 0. 0. 0. 0. 0. 0.\n",
            "  0. 0. 0. 0. 0. 0. 0. 0. 0. 0. 0. 0. 0. 0. 0. 0.]\n",
            " [0. 0. 0. 0. 0. 0. 0. 0. 0. 0. 0. 0. 0. 0. 0. 0. 0. 0. 0. 0. 0. 0. 0. 0.\n",
            "  0. 0. 0. 0. 0. 0. 0. 0. 0. 0. 0. 0. 0. 0. 0. 0.]\n",
            " [0. 0. 0. 0. 0. 0. 0. 0. 0. 0. 0. 0. 0. 0. 0. 0. 0. 0. 0. 0. 0. 0. 0. 0.\n",
            "  0. 0. 0. 0. 0. 0. 0. 0. 0. 0. 0. 0. 0. 0. 0. 0.]\n",
            " [0. 0. 0. 0. 0. 0. 0. 0. 0. 0. 0. 0. 0. 0. 0. 0. 0. 0. 0. 0. 0. 0. 0. 0.\n",
            "  0. 0. 0. 0. 0. 0. 0. 0. 0. 0. 0. 0. 0. 0. 0. 0.]\n",
            " [0. 0. 0. 0. 0. 0. 0. 0. 0. 0. 0. 0. 0. 0. 0. 0. 0. 0. 0. 0. 0. 0. 0. 0.\n",
            "  0. 0. 0. 0. 0. 0. 0. 0. 0. 0. 0. 0. 0. 0. 0. 0.]\n",
            " [0. 0. 0. 0. 0. 0. 0. 0. 0. 0. 0. 0. 0. 0. 0. 0. 0. 0. 0. 0. 0. 0. 0. 0.\n",
            "  0. 0. 0. 0. 0. 0. 0. 0. 0. 0. 0. 0. 0. 0. 0. 0.]\n",
            " [0. 0. 0. 0. 0. 0. 0. 0. 0. 0. 0. 0. 0. 0. 0. 0. 0. 0. 0. 0. 0. 0. 0. 0.\n",
            "  0. 0. 0. 0. 0. 0. 0. 0. 0. 0. 0. 0. 0. 0. 0. 0.]\n",
            " [0. 0. 0. 0. 0. 0. 0. 0. 0. 0. 0. 0. 0. 0. 0. 0. 0. 0. 0. 0. 0. 0. 0. 0.\n",
            "  0. 0. 0. 0. 0. 0. 0. 0. 0. 0. 0. 0. 0. 0. 0. 0.]\n",
            " [0. 0. 0. 0. 0. 0. 0. 0. 0. 0. 0. 0. 0. 0. 0. 0. 0. 0. 0. 0. 0. 0. 0. 0.\n",
            "  0. 0. 0. 0. 0. 0. 0. 0. 0. 0. 0. 0. 0. 0. 0. 0.]\n",
            " [0. 0. 0. 0. 0. 0. 0. 0. 0. 0. 0. 0. 0. 0. 0. 0. 0. 0. 0. 0. 0. 0. 0. 0.\n",
            "  0. 0. 0. 0. 0. 0. 0. 0. 0. 0. 0. 0. 0. 0. 0. 0.]\n",
            " [0. 0. 0. 0. 0. 0. 0. 0. 0. 0. 0. 0. 0. 0. 0. 0. 0. 0. 0. 0. 0. 0. 0. 0.\n",
            "  0. 0. 0. 0. 0. 0. 0. 0. 0. 0. 0. 0. 0. 0. 0. 0.]\n",
            " [0. 0. 0. 0. 0. 0. 0. 0. 0. 0. 0. 0. 0. 0. 0. 0. 0. 0. 0. 0. 0. 0. 0. 0.\n",
            "  0. 0. 0. 0. 0. 0. 0. 0. 0. 0. 0. 0. 0. 0. 0. 0.]\n",
            " [0. 0. 0. 0. 0. 0. 0. 0. 0. 0. 0. 0. 0. 0. 0. 0. 0. 0. 0. 0. 0. 0. 0. 0.\n",
            "  0. 0. 0. 0. 0. 0. 0. 0. 0. 0. 0. 0. 0. 0. 0. 0.]\n",
            " [0. 0. 0. 0. 0. 0. 0. 0. 0. 0. 0. 0. 0. 0. 0. 0. 0. 0. 0. 0. 0. 0. 0. 0.\n",
            "  0. 0. 0. 0. 0. 0. 0. 0. 0. 0. 0. 0. 0. 0. 0. 0.]\n",
            " [0. 0. 0. 0. 0. 0. 0. 0. 0. 0. 0. 0. 0. 0. 0. 0. 0. 0. 0. 0. 0. 0. 0. 0.\n",
            "  0. 0. 0. 0. 0. 0. 0. 0. 0. 0. 0. 0. 0. 0. 0. 0.]\n",
            " [0. 0. 0. 0. 0. 0. 0. 0. 0. 0. 0. 0. 0. 0. 0. 0. 0. 0. 0. 0. 0. 0. 0. 0.\n",
            "  0. 0. 0. 0. 0. 0. 0. 0. 0. 0. 0. 0. 0. 0. 0. 0.]\n",
            " [0. 0. 0. 0. 0. 0. 0. 0. 0. 0. 0. 0. 0. 0. 0. 0. 0. 0. 0. 0. 0. 0. 0. 0.\n",
            "  0. 0. 0. 0. 0. 0. 0. 0. 0. 0. 0. 0. 0. 0. 0. 0.]\n",
            " [0. 0. 0. 0. 0. 0. 0. 0. 0. 0. 0. 0. 0. 0. 0. 0. 0. 0. 0. 0. 0. 0. 0. 0.\n",
            "  0. 0. 0. 0. 0. 0. 0. 0. 0. 0. 0. 0. 0. 0. 0. 0.]\n",
            " [0. 0. 0. 0. 0. 0. 0. 0. 0. 0. 0. 0. 0. 0. 0. 0. 0. 0. 0. 0. 0. 0. 0. 0.\n",
            "  0. 0. 0. 0. 0. 0. 0. 0. 0. 0. 0. 0. 0. 0. 0. 0.]\n",
            " [0. 0. 0. 0. 0. 0. 0. 0. 0. 0. 0. 0. 0. 0. 0. 0. 0. 0. 0. 0. 0. 0. 0. 0.\n",
            "  0. 0. 0. 0. 0. 0. 0. 0. 0. 0. 0. 0. 0. 0. 0. 0.]\n",
            " [0. 0. 0. 0. 0. 0. 0. 0. 0. 0. 0. 0. 0. 0. 0. 0. 0. 0. 0. 0. 0. 0. 0. 0.\n",
            "  0. 0. 0. 0. 0. 0. 0. 0. 0. 0. 0. 0. 0. 0. 0. 0.]\n",
            " [0. 0. 0. 0. 0. 0. 0. 0. 0. 0. 0. 0. 0. 0. 0. 0. 0. 0. 0. 0. 0. 0. 0. 0.\n",
            "  0. 0. 0. 0. 0. 0. 0. 0. 0. 0. 0. 0. 0. 0. 0. 0.]\n",
            " [0. 0. 0. 0. 0. 0. 0. 0. 0. 0. 0. 0. 0. 0. 0. 0. 0. 0. 0. 0. 0. 0. 0. 0.\n",
            "  0. 0. 0. 0. 0. 0. 0. 0. 0. 0. 0. 0. 0. 0. 0. 0.]\n",
            " [0. 0. 0. 0. 0. 0. 0. 0. 0. 0. 0. 0. 0. 0. 0. 0. 0. 0. 0. 0. 0. 0. 0. 0.\n",
            "  0. 0. 0. 0. 0. 0. 0. 0. 0. 0. 0. 0. 0. 0. 0. 0.]\n",
            " [0. 0. 0. 0. 0. 0. 0. 0. 0. 0. 0. 0. 0. 0. 0. 0. 0. 0. 0. 0. 0. 0. 0. 0.\n",
            "  0. 0. 0. 0. 0. 0. 0. 0. 0. 0. 0. 0. 0. 0. 0. 0.]\n",
            " [0. 0. 0. 0. 0. 0. 0. 0. 0. 0. 0. 0. 0. 0. 0. 0. 0. 0. 0. 0. 0. 0. 0. 0.\n",
            "  0. 0. 0. 0. 0. 0. 0. 0. 0. 0. 0. 0. 0. 0. 0. 0.]\n",
            " [0. 0. 0. 0. 0. 0. 0. 0. 0. 0. 0. 0. 0. 0. 0. 0. 0. 0. 0. 0. 0. 0. 0. 0.\n",
            "  0. 0. 0. 0. 0. 0. 0. 0. 0. 0. 0. 0. 0. 0. 0. 0.]\n",
            " [0. 0. 0. 0. 0. 0. 0. 0. 0. 0. 0. 0. 0. 0. 0. 0. 0. 0. 0. 0. 0. 0. 0. 0.\n",
            "  0. 0. 0. 0. 0. 0. 0. 0. 0. 0. 0. 0. 0. 0. 0. 0.]\n",
            " [0. 0. 0. 0. 0. 0. 0. 0. 0. 0. 0. 0. 0. 0. 0. 0. 0. 0. 0. 0. 0. 0. 0. 0.\n",
            "  0. 0. 0. 0. 0. 0. 0. 0. 0. 0. 0. 0. 0. 0. 0. 0.]\n",
            " [0. 0. 0. 0. 0. 0. 0. 0. 0. 0. 0. 0. 0. 0. 0. 0. 0. 0. 0. 0. 0. 0. 0. 0.\n",
            "  0. 0. 0. 0. 0. 0. 0. 0. 0. 0. 0. 0. 0. 0. 0. 0.]\n",
            " [0. 0. 0. 0. 0. 0. 0. 0. 0. 0. 0. 0. 0. 0. 0. 0. 0. 0. 0. 0. 0. 0. 0. 0.\n",
            "  0. 0. 0. 0. 0. 0. 0. 0. 0. 0. 0. 0. 0. 0. 0. 0.]\n",
            " [0. 0. 0. 0. 0. 0. 0. 0. 0. 0. 0. 0. 0. 0. 0. 0. 0. 0. 0. 0. 0. 0. 0. 0.\n",
            "  0. 0. 0. 0. 0. 0. 0. 0. 0. 0. 0. 0. 0. 0. 0. 0.]\n",
            " [0. 0. 0. 0. 0. 0. 0. 0. 0. 0. 0. 0. 0. 0. 0. 0. 0. 0. 0. 0. 0. 0. 0. 0.\n",
            "  0. 0. 0. 0. 0. 0. 0. 0. 0. 0. 0. 0. 0. 0. 0. 0.]\n",
            " [0. 0. 0. 0. 0. 0. 0. 0. 0. 0. 0. 0. 0. 0. 0. 0. 0. 0. 0. 0. 0. 0. 0. 0.\n",
            "  0. 0. 0. 0. 0. 0. 0. 0. 0. 0. 0. 0. 0. 0. 0. 0.]\n",
            " [0. 0. 0. 0. 0. 0. 0. 0. 0. 0. 0. 0. 0. 0. 0. 0. 0. 0. 0. 0. 0. 0. 0. 0.\n",
            "  0. 0. 0. 0. 0. 0. 0. 0. 0. 0. 0. 0. 0. 0. 0. 0.]\n",
            " [0. 0. 0. 0. 0. 0. 0. 0. 0. 0. 0. 0. 0. 0. 0. 0. 0. 0. 0. 0. 0. 0. 0. 0.\n",
            "  0. 0. 0. 0. 0. 0. 0. 0. 0. 0. 0. 0. 0. 0. 0. 0.]\n",
            " [0. 0. 0. 0. 0. 0. 0. 0. 0. 0. 0. 0. 0. 0. 0. 0. 0. 0. 0. 0. 0. 0. 0. 0.\n",
            "  0. 0. 0. 0. 0. 0. 0. 0. 0. 0. 0. 0. 0. 0. 0. 0.]]\n"
          ]
        }
      ],
      "source": [
        "np.set_printoptions(threshold=float(\"inf\"))\n",
        "Z = np.zeros((40,40))\n",
        "print(Z)"
      ]
    },
    {
      "cell_type": "markdown",
      "metadata": {
        "id": "-8luA1rYiaWo"
      },
      "source": [
        "#### 50. How to find the closest value (to a given scalar) in a vector? (★★☆) \n",
        "(**hint**: argmin)"
      ]
    },
    {
      "cell_type": "code",
      "execution_count": 69,
      "metadata": {
        "id": "G6vP8bcuiaWo",
        "colab": {
          "base_uri": "https://localhost:8080/"
        },
        "outputId": "188d1f98-7255-4132-87b3-508d92d8ea8c"
      },
      "outputs": [
        {
          "output_type": "stream",
          "name": "stdout",
          "text": [
            "99\n"
          ]
        }
      ],
      "source": [
        "Z = np.arange(100)\n",
        "v = np.random.uniform(0,100)\n",
        "index = (np.abs(Z-v)).argmin()\n",
        "print(Z[index])"
      ]
    },
    {
      "cell_type": "markdown",
      "metadata": {
        "id": "s9DD7SEsiaWo"
      },
      "source": [
        "#### 51. Create a structured array representing a position (x,y) and a color (r,g,b) (★★☆) \n",
        "(**hint**: dtype)"
      ]
    },
    {
      "cell_type": "code",
      "execution_count": 69,
      "metadata": {
        "id": "vYqoZ7uLiaWp"
      },
      "outputs": [],
      "source": [
        ""
      ]
    },
    {
      "cell_type": "markdown",
      "metadata": {
        "id": "VgukrSB8iaWp"
      },
      "source": [
        "#### 52. Consider a random vector with shape (100,2) representing coordinates, find point by point distances (★★☆) \n",
        "(**hint**: np.atleast\\_2d, T, np.sqrt)"
      ]
    },
    {
      "cell_type": "code",
      "execution_count": 69,
      "metadata": {
        "id": "3OCclo2SiaWp"
      },
      "outputs": [],
      "source": [
        ""
      ]
    },
    {
      "cell_type": "markdown",
      "metadata": {
        "id": "O4flq8R1iaWq"
      },
      "source": [
        "#### 53. How to convert a float (32 bits) array into an integer (32 bits) in place? \n",
        "(**hint**: astype(copy=False))"
      ]
    },
    {
      "cell_type": "code",
      "execution_count": 70,
      "metadata": {
        "id": "Hfjq9a5-iaWq",
        "colab": {
          "base_uri": "https://localhost:8080/"
        },
        "outputId": "27d00f38-7800-4964-f89d-d7e4ee2acf1b"
      },
      "outputs": [
        {
          "output_type": "stream",
          "name": "stdout",
          "text": [
            "[19 60 23 37 86 79 39 12 14 29]\n"
          ]
        }
      ],
      "source": [
        "Z = (np.random.rand(10)*100).astype(float)\n",
        "print(Z.astype(int))"
      ]
    },
    {
      "cell_type": "markdown",
      "metadata": {
        "id": "9mg_cqH6iaWq"
      },
      "source": [
        "#### 54. How to read the following file? (★★☆) \n",
        "(**hint**: np.genfromtxt)"
      ]
    },
    {
      "cell_type": "markdown",
      "metadata": {
        "id": "rBlBAxcniaWq"
      },
      "source": [
        "```\n",
        "1, 2, 3, 4, 5\n",
        "6,  ,  , 7, 8\n",
        " ,  , 9,10,11\n",
        "```"
      ]
    },
    {
      "cell_type": "code",
      "execution_count": 70,
      "metadata": {
        "id": "D905ntUWiaWr"
      },
      "outputs": [],
      "source": [
        ""
      ]
    },
    {
      "cell_type": "markdown",
      "metadata": {
        "id": "6uh3dlPOiaWr"
      },
      "source": [
        "#### 55. What is the equivalent of enumerate for numpy arrays? (★★☆) \n",
        "(**hint**: np.ndenumerate, np.ndindex)"
      ]
    },
    {
      "cell_type": "code",
      "execution_count": 70,
      "metadata": {
        "id": "ub6vHzCciaWr"
      },
      "outputs": [],
      "source": [
        ""
      ]
    },
    {
      "cell_type": "markdown",
      "metadata": {
        "id": "ZbTBmPV6iaWr"
      },
      "source": [
        "#### 56. Generate a generic 2D Gaussian-like array (★★☆) \n",
        "(**hint**: np.meshgrid, np.exp)"
      ]
    },
    {
      "cell_type": "code",
      "execution_count": 70,
      "metadata": {
        "id": "9EFW3yY5iaWr"
      },
      "outputs": [],
      "source": [
        ""
      ]
    },
    {
      "cell_type": "markdown",
      "metadata": {
        "id": "Ru0_a6bEiaWs"
      },
      "source": [
        "#### 57. How to randomly place p elements in a 2D array? (★★☆) \n",
        "(**hint**: np.put, np.random.choice)"
      ]
    },
    {
      "cell_type": "code",
      "execution_count": 70,
      "metadata": {
        "id": "PT_E3ZRqiaWs"
      },
      "outputs": [],
      "source": [
        ""
      ]
    },
    {
      "cell_type": "markdown",
      "metadata": {
        "id": "ua3RYvcviaWs"
      },
      "source": [
        "#### 58. Subtract the mean of each row of a matrix (★★☆) \n",
        "(**hint**: mean(axis=,keepdims=))"
      ]
    },
    {
      "cell_type": "code",
      "execution_count": 71,
      "metadata": {
        "id": "kAIOm_JpiaWs",
        "colab": {
          "base_uri": "https://localhost:8080/"
        },
        "outputId": "6c881f4b-7c27-443c-d22f-2eebd62f5c06"
      },
      "outputs": [
        {
          "output_type": "stream",
          "name": "stdout",
          "text": [
            "[[ 0.23436182 -0.44681824 -0.16508875  0.21798261 -0.17769549 -0.31691126\n",
            "   0.30656783  0.17328896  0.03099237  0.14332015]\n",
            " [-0.17054476 -0.36193817  0.26855761  0.28784703 -0.39693607 -0.2818101\n",
            "   0.44729408 -0.14098834  0.06293447  0.28558426]\n",
            " [ 0.13008198 -0.03355702 -0.03592509  0.32117722 -0.26768277 -0.48566977\n",
            "   0.35245622 -0.12942339  0.21672077 -0.06817816]\n",
            " [-0.09434371 -0.32348761  0.14871341 -0.2114827   0.26871871  0.35004156\n",
            "  -0.11105837 -0.02753915 -0.03357104  0.03400889]\n",
            " [ 0.09313409 -0.18891608  0.12252459  0.343335    0.15367242 -0.11489785\n",
            "  -0.5100184   0.41705503  0.20815957 -0.52404835]]\n"
          ]
        }
      ],
      "source": [
        "X = np.random.rand(5, 10)\n",
        "Y = X - X.mean(axis=1, keepdims=True)\n",
        "print(Y)"
      ]
    },
    {
      "cell_type": "markdown",
      "metadata": {
        "id": "0dPIBD9qiaWt"
      },
      "source": [
        "#### 59. How to sort an array by the nth column? (★★☆) \n",
        "(**hint**: argsort)"
      ]
    },
    {
      "cell_type": "code",
      "execution_count": 72,
      "metadata": {
        "id": "F5IJAvBhiaWt",
        "colab": {
          "base_uri": "https://localhost:8080/"
        },
        "outputId": "af27bcde-a425-4847-b0a6-ec856a934e39"
      },
      "outputs": [
        {
          "output_type": "stream",
          "name": "stdout",
          "text": [
            "[[8 3 4]\n",
            " [9 3 5]\n",
            " [3 1 7]]\n",
            "[[3 1 7]\n",
            " [8 3 4]\n",
            " [9 3 5]]\n"
          ]
        }
      ],
      "source": [
        "sor = np.random.randint(0,10,(3,3))\n",
        "print(sor)\n",
        "print(sor[sor[:,1].argsort()])"
      ]
    },
    {
      "cell_type": "markdown",
      "metadata": {
        "id": "IN85F_GpiaWt"
      },
      "source": [
        "#### 60. How to tell if a given 2D array has null columns? (★★☆) \n",
        "(**hint**: any, ~)"
      ]
    },
    {
      "cell_type": "code",
      "execution_count": 73,
      "metadata": {
        "id": "mxS5VTk1iaWt",
        "colab": {
          "base_uri": "https://localhost:8080/"
        },
        "outputId": "909eed3f-2b2d-4283-bf64-fbbd33f69d9e"
      },
      "outputs": [
        {
          "output_type": "stream",
          "name": "stdout",
          "text": [
            "True\n"
          ]
        }
      ],
      "source": [
        "nul = np.random.randint(0,3,(3,10))\n",
        "print((~nul.any(axis=0)).any())"
      ]
    },
    {
      "cell_type": "markdown",
      "metadata": {
        "id": "zBvZNPZKiaWu"
      },
      "source": [
        "#### 61. Find the nearest value from a given value in an array (★★☆) \n",
        "(**hint**: np.abs, argmin, flat)"
      ]
    },
    {
      "cell_type": "code",
      "execution_count": 74,
      "metadata": {
        "id": "C3aP02cXiaWu",
        "colab": {
          "base_uri": "https://localhost:8080/"
        },
        "outputId": "1c3b091d-5655-4833-da76-a8134419e3d5"
      },
      "outputs": [
        {
          "output_type": "stream",
          "name": "stdout",
          "text": [
            "0.5561067399103214\n"
          ]
        }
      ],
      "source": [
        "Z = np.random.uniform(0,1,10)\n",
        "z = 0.5\n",
        "m = Z.flat[np.abs(Z - z).argmin()]\n",
        "print(m)"
      ]
    },
    {
      "cell_type": "markdown",
      "metadata": {
        "id": "VILwYCpxiaWu"
      },
      "source": [
        "#### 62. Considering two arrays with shape (1,3) and (3,1), how to compute their sum using an iterator? (★★☆) \n",
        "(**hint**: np.nditer)"
      ]
    },
    {
      "cell_type": "code",
      "execution_count": 74,
      "metadata": {
        "id": "w3_8HHEPiaWu"
      },
      "outputs": [],
      "source": [
        ""
      ]
    },
    {
      "cell_type": "markdown",
      "metadata": {
        "id": "iuSRq9FPiaWu"
      },
      "source": [
        "#### 63. Create an array class that has a name attribute (★★☆) \n",
        "(**hint**: class method)"
      ]
    },
    {
      "cell_type": "code",
      "execution_count": 74,
      "metadata": {
        "id": "hLHOXPOQiaWv"
      },
      "outputs": [],
      "source": [
        ""
      ]
    },
    {
      "cell_type": "markdown",
      "metadata": {
        "id": "OzctjNrDiaWv"
      },
      "source": [
        "#### 64. Consider a given vector, how to add 1 to each element indexed by a second vector (be careful with repeated indices)? (★★★) \n",
        "(**hint**: np.bincount | np.add.at)"
      ]
    },
    {
      "cell_type": "code",
      "execution_count": 74,
      "metadata": {
        "id": "TfKo5MXEiaWv"
      },
      "outputs": [],
      "source": [
        ""
      ]
    },
    {
      "cell_type": "markdown",
      "metadata": {
        "id": "F7e9af0IiaWv"
      },
      "source": [
        "#### 65. How to accumulate elements of a vector (X) to an array (F) based on an index list (I)? (★★★) \n",
        "(**hint**: np.bincount)"
      ]
    },
    {
      "cell_type": "code",
      "execution_count": 75,
      "metadata": {
        "id": "XqCqKp6miaWw",
        "colab": {
          "base_uri": "https://localhost:8080/"
        },
        "outputId": "9b3d5a18-ec3c-496d-f8be-408d9566f741"
      },
      "outputs": [
        {
          "output_type": "stream",
          "name": "stdout",
          "text": [
            "[0. 7. 0. 6. 5. 0. 0. 0. 0. 3.]\n"
          ]
        }
      ],
      "source": [
        "X = [1,2,3,4,5,6]\n",
        "I = [1,3,9,3,4,1]\n",
        "F = np.bincount(I,X)\n",
        "print(F)"
      ]
    },
    {
      "cell_type": "markdown",
      "metadata": {
        "id": "q-4ZV_afiaWw"
      },
      "source": [
        "#### 66. Considering a (w,h,3) image of (dtype=ubyte), compute the number of unique colors (★★★) \n",
        "(**hint**: np.unique)"
      ]
    },
    {
      "cell_type": "code",
      "execution_count": 75,
      "metadata": {
        "id": "U0OVvGJDiaWw"
      },
      "outputs": [],
      "source": [
        ""
      ]
    },
    {
      "cell_type": "markdown",
      "metadata": {
        "id": "nCvImJHDiaWw"
      },
      "source": [
        "#### 67. Considering a four dimensions array, how to get sum over the last two axis at once? (★★★) \n",
        "(**hint**: sum(axis=(-2,-1)))"
      ]
    },
    {
      "cell_type": "code",
      "execution_count": 75,
      "metadata": {
        "id": "rI8R-T2diaWx"
      },
      "outputs": [],
      "source": [
        ""
      ]
    },
    {
      "cell_type": "markdown",
      "metadata": {
        "id": "tdn2bWPQiaWx"
      },
      "source": [
        "#### 68. Considering a one-dimensional vector D, how to compute means of subsets of D using a vector S of same size describing subset  indices? (★★★) \n",
        "(**hint**: np.bincount)"
      ]
    },
    {
      "cell_type": "code",
      "execution_count": 75,
      "metadata": {
        "id": "HVCdJQ2jiaWy"
      },
      "outputs": [],
      "source": [
        ""
      ]
    },
    {
      "cell_type": "markdown",
      "metadata": {
        "id": "UcssAEJjiaWy"
      },
      "source": [
        "#### 69. How to get the diagonal of a dot product? (★★★) \n",
        "(**hint**: np.diag)"
      ]
    },
    {
      "cell_type": "code",
      "execution_count": 75,
      "metadata": {
        "id": "13aYKf5riaWz"
      },
      "outputs": [],
      "source": [
        ""
      ]
    },
    {
      "cell_type": "markdown",
      "metadata": {
        "id": "ICmfksC6iaWz"
      },
      "source": [
        "#### 70. Consider the vector \\[1, 2, 3, 4, 5\\], how to build a new vector with 3 consecutive zeros interleaved between each value? (★★★) \n",
        "(**hint**: array\\[::4\\])"
      ]
    },
    {
      "cell_type": "code",
      "execution_count": 75,
      "metadata": {
        "id": "Phr-2B_riaWz"
      },
      "outputs": [],
      "source": [
        ""
      ]
    },
    {
      "cell_type": "markdown",
      "metadata": {
        "id": "bJgMQwHwiaWz"
      },
      "source": [
        "#### 71. Consider an array of dimension (5,5,3), how to mulitply it by an array with dimensions (5,5)? (★★★) \n",
        "(**hint**: array\\[:, :, None\\])"
      ]
    },
    {
      "cell_type": "code",
      "execution_count": 76,
      "metadata": {
        "collapsed": true,
        "id": "Clci9RTWiaW0",
        "colab": {
          "base_uri": "https://localhost:8080/"
        },
        "outputId": "ee3ddaa8-c218-4925-cd02-93c2e5e0d501"
      },
      "outputs": [
        {
          "output_type": "stream",
          "name": "stdout",
          "text": [
            "[[[2. 2. 2.]\n",
            "  [2. 2. 2.]\n",
            "  [2. 2. 2.]\n",
            "  [2. 2. 2.]\n",
            "  [2. 2. 2.]]\n",
            "\n",
            " [[2. 2. 2.]\n",
            "  [2. 2. 2.]\n",
            "  [2. 2. 2.]\n",
            "  [2. 2. 2.]\n",
            "  [2. 2. 2.]]\n",
            "\n",
            " [[2. 2. 2.]\n",
            "  [2. 2. 2.]\n",
            "  [2. 2. 2.]\n",
            "  [2. 2. 2.]\n",
            "  [2. 2. 2.]]\n",
            "\n",
            " [[2. 2. 2.]\n",
            "  [2. 2. 2.]\n",
            "  [2. 2. 2.]\n",
            "  [2. 2. 2.]\n",
            "  [2. 2. 2.]]\n",
            "\n",
            " [[2. 2. 2.]\n",
            "  [2. 2. 2.]\n",
            "  [2. 2. 2.]\n",
            "  [2. 2. 2.]\n",
            "  [2. 2. 2.]]]\n"
          ]
        }
      ],
      "source": [
        "A = np.ones((5,5,3))\n",
        "B = 2*np.ones((5,5))\n",
        "print(A * B[:,:,None])"
      ]
    },
    {
      "cell_type": "markdown",
      "metadata": {
        "id": "LFDgIojJiaW1"
      },
      "source": [
        "#### 72. How to swap two rows of an array? (★★★) \n",
        "(**hint**: array\\[\\[\\]\\] = array\\[\\[\\]\\])"
      ]
    },
    {
      "cell_type": "code",
      "execution_count": 77,
      "metadata": {
        "id": "oVGY2m44iaW2",
        "colab": {
          "base_uri": "https://localhost:8080/"
        },
        "outputId": "f7a46bfd-5555-41f4-a559-91d835e47ac0"
      },
      "outputs": [
        {
          "output_type": "stream",
          "name": "stdout",
          "text": [
            "[[ 0  1  2  3  4]\n",
            " [ 5  6  7  8  9]\n",
            " [10 11 12 13 14]\n",
            " [15 16 17 18 19]\n",
            " [20 21 22 23 24]]\n",
            "[[ 5  6  7  8  9]\n",
            " [ 0  1  2  3  4]\n",
            " [10 11 12 13 14]\n",
            " [15 16 17 18 19]\n",
            " [20 21 22 23 24]]\n"
          ]
        }
      ],
      "source": [
        "A = np.arange(25).reshape(5,5)\n",
        "print(A)\n",
        "A[[0,1]] = A[[1,0]]\n",
        "print(A)"
      ]
    },
    {
      "cell_type": "markdown",
      "metadata": {
        "id": "3qCyQfXhiaW2"
      },
      "source": [
        "#### 73. Consider a set of 10 triplets describing 10 triangles (with shared vertices), find the set of unique line segments composing all the  triangles (★★★) \n",
        "(**hint**: repeat, np.roll, np.sort, view, np.unique)"
      ]
    },
    {
      "cell_type": "code",
      "execution_count": 77,
      "metadata": {
        "id": "PGalFj6DiaW2"
      },
      "outputs": [],
      "source": [
        ""
      ]
    },
    {
      "cell_type": "markdown",
      "metadata": {
        "id": "xV5aagD7iaW3"
      },
      "source": [
        "#### 74. Given an array C that is a bincount, how to produce an array A such that np.bincount(A) == C? (★★★) \n",
        "(**hint**: np.repeat)"
      ]
    },
    {
      "cell_type": "code",
      "execution_count": 78,
      "metadata": {
        "id": "JO1qnILuiaW3",
        "colab": {
          "base_uri": "https://localhost:8080/"
        },
        "outputId": "4fd841eb-f405-4e7c-8781-27fd56ab93b7"
      },
      "outputs": [
        {
          "output_type": "stream",
          "name": "stdout",
          "text": [
            "[1 1 2 3 4 4 6]\n"
          ]
        }
      ],
      "source": [
        "C = np.bincount([1,1,2,3,4,4,6])\n",
        "A = np.repeat(np.arange(len(C)), C)\n",
        "print(A)"
      ]
    },
    {
      "cell_type": "markdown",
      "metadata": {
        "id": "4lajvBUwiaW3"
      },
      "source": [
        "#### 75. How to compute averages using a sliding window over an array? (★★★) \n",
        "(**hint**: np.cumsum)"
      ]
    },
    {
      "cell_type": "code",
      "execution_count": 78,
      "metadata": {
        "id": "b7m5JFybiaW3"
      },
      "outputs": [],
      "source": [
        ""
      ]
    },
    {
      "cell_type": "markdown",
      "metadata": {
        "id": "J0Prb9FhiaW3"
      },
      "source": [
        "#### 76. Consider a one-dimensional array Z, build a two-dimensional array whose first row is (Z\\[0\\],Z\\[1\\],Z\\[2\\]) and each subsequent row is  shifted by 1 (last row should be (Z\\[-3\\],Z\\[-2\\],Z\\[-1\\]) (★★★) \n",
        "(**hint**: from numpy.lib import stride_tricks)"
      ]
    },
    {
      "cell_type": "code",
      "execution_count": 78,
      "metadata": {
        "id": "wzQWM4WWiaW4"
      },
      "outputs": [],
      "source": [
        ""
      ]
    },
    {
      "cell_type": "markdown",
      "metadata": {
        "id": "kNSG5wEwiaW4"
      },
      "source": [
        "#### 77. How to negate a boolean, or to change the sign of a float inplace? (★★★) \n",
        "(**hint**: np.logical_not, np.negative)"
      ]
    },
    {
      "cell_type": "code",
      "execution_count": 79,
      "metadata": {
        "id": "1K0jFk04iaW4",
        "colab": {
          "base_uri": "https://localhost:8080/"
        },
        "outputId": "d52615b9-730a-46c2-ce2a-988013adc659"
      },
      "outputs": [
        {
          "output_type": "execute_result",
          "data": {
            "text/plain": [
              "array([-0.70762442, -0.13046976,  0.51939953, -0.0184359 , -0.70705106,\n",
              "       -0.62357893, -0.3466223 , -0.19272812,  0.6015336 , -0.48484861,\n",
              "       -0.21267723, -0.94819444, -0.6156488 , -0.66364745,  0.28129155,\n",
              "       -0.62571134,  0.37837059,  0.69544932,  0.986616  , -0.19414458,\n",
              "        0.0690018 ,  0.54725036, -0.84703224, -0.3338254 , -0.10792325,\n",
              "        0.45183999,  0.17458757, -0.75426348,  0.31856478,  0.10629245,\n",
              "       -0.22815127,  0.36412927,  0.07060678, -0.36057816,  0.98732486,\n",
              "        0.00331384, -0.6787806 ,  0.89464811,  0.74407689,  0.8741611 ,\n",
              "        0.70700186, -0.04668234, -0.72778358, -0.17446456,  0.17499345,\n",
              "       -0.98508282,  0.89437651,  0.78679264,  0.08779151, -0.16230359,\n",
              "        0.91124512,  0.36801974, -0.92894744, -0.71729448, -0.34559303,\n",
              "       -0.07811375,  0.44063762, -0.417233  ,  0.35660235,  0.5665997 ,\n",
              "        0.77428887,  0.66216329, -0.63791359, -0.67547061, -0.50509636,\n",
              "       -0.2356919 , -0.64485286,  0.27917772,  0.15733224, -0.36900191,\n",
              "       -0.71888974, -0.23383974,  0.41649992, -0.88362902,  0.16246449,\n",
              "       -0.66172768, -0.62625743,  0.33818616,  0.14057004,  0.74507173,\n",
              "       -0.12256193,  0.85182978,  0.55550902, -0.84207846, -0.62225971,\n",
              "        0.16814505,  0.37344909,  0.01580006,  0.39214523,  0.98393154,\n",
              "        0.85757325,  0.81181857, -0.44703234,  0.98220772,  0.09922561,\n",
              "        0.35370455, -0.91106361, -0.39287731, -0.86774985,  0.12871145])"
            ]
          },
          "metadata": {},
          "execution_count": 79
        }
      ],
      "source": [
        "Z = np.random.randint(0,2,100)\n",
        "np.logical_not(Z, out=Z)\n",
        "\n",
        "Z = np.random.uniform(-1.0,1.0,100)\n",
        "np.negative(Z, out=Z)"
      ]
    },
    {
      "cell_type": "markdown",
      "metadata": {
        "id": "zG9fXkJZiaW4"
      },
      "source": [
        "#### 78. Consider 2 sets of points P0,P1 describing lines (2d) and a point p, how to compute distance from p to each line i  (P0\\[i\\],P1\\[i\\])? (★★★)"
      ]
    },
    {
      "cell_type": "code",
      "execution_count": 79,
      "metadata": {
        "id": "O-Ea-LD4iaW5"
      },
      "outputs": [],
      "source": [
        ""
      ]
    },
    {
      "cell_type": "markdown",
      "metadata": {
        "id": "srFQc8_YiaW5"
      },
      "source": [
        "#### 79. Consider 2 sets of points P0,P1 describing lines (2d) and a set of points P, how to compute distance from each point j (P\\[j\\]) to each line i (P0\\[i\\],P1\\[i\\])? (★★★)"
      ]
    },
    {
      "cell_type": "code",
      "execution_count": 79,
      "metadata": {
        "id": "FqVrodnWiaW5"
      },
      "outputs": [],
      "source": [
        ""
      ]
    },
    {
      "cell_type": "markdown",
      "metadata": {
        "id": "UmEVT9poiaW5"
      },
      "source": [
        "#### 80. Consider an arbitrary array, write a function that extract a subpart with a fixed shape and centered on a given element (pad with a `fill` value when necessary) (★★★) \n",
        "(**hint**: minimum, maximum)"
      ]
    },
    {
      "cell_type": "code",
      "execution_count": 79,
      "metadata": {
        "id": "8hiswKUviaW6"
      },
      "outputs": [],
      "source": [
        ""
      ]
    },
    {
      "cell_type": "markdown",
      "metadata": {
        "id": "Ftz0Dlc4iaW6"
      },
      "source": [
        "#### 81. Consider an array Z = \\[1,2,3,4,5,6,7,8,9,10,11,12,13,14\\], how to generate an array R = \\[\\[1,2,3,4\\], \\[2,3,4,5\\], \\[3,4,5,6\\], ..., \\[11,12,13,14\\]\\]? (★★★) \n",
        "(**hint**: stride\\_tricks.as\\_strided)"
      ]
    },
    {
      "cell_type": "code",
      "execution_count": 79,
      "metadata": {
        "id": "N4bTpkJjiaW6"
      },
      "outputs": [],
      "source": [
        ""
      ]
    },
    {
      "cell_type": "markdown",
      "metadata": {
        "id": "m29rGjjQiaW6"
      },
      "source": [
        "#### 82. Compute a matrix rank (★★★) \n",
        "(**hint**: np.linalg.svd) (suggestion: np.linalg.svd)"
      ]
    },
    {
      "cell_type": "code",
      "execution_count": 80,
      "metadata": {
        "id": "1oYbb_WDiaW7",
        "colab": {
          "base_uri": "https://localhost:8080/"
        },
        "outputId": "71881762-9455-4c53-94e0-b2a7066cde3c"
      },
      "outputs": [
        {
          "output_type": "stream",
          "name": "stdout",
          "text": [
            "1\n"
          ]
        }
      ],
      "source": [
        "rank = np.linalg.matrix_rank(Z)\n",
        "print(rank)"
      ]
    },
    {
      "cell_type": "markdown",
      "metadata": {
        "id": "3YRnT6Z-iaW7"
      },
      "source": [
        "#### 83. How to find the most frequent value in an array? \n",
        "(**hint**: np.bincount, argmax)"
      ]
    },
    {
      "cell_type": "code",
      "execution_count": 81,
      "metadata": {
        "id": "Rc6xfK_AiaW7",
        "colab": {
          "base_uri": "https://localhost:8080/"
        },
        "outputId": "e8782c16-6078-4870-faef-d86a490e4ccd"
      },
      "outputs": [
        {
          "output_type": "stream",
          "name": "stdout",
          "text": [
            "0\n"
          ]
        }
      ],
      "source": [
        "Z = np.random.randint(0,10,50)\n",
        "print(np.bincount(Z).argmax())"
      ]
    },
    {
      "cell_type": "markdown",
      "metadata": {
        "id": "A6e9MTcWiaW7"
      },
      "source": [
        "#### 84. Extract all the contiguous 3x3 blocks from a random 10x10 matrix (★★★) \n",
        "(**hint**: stride\\_tricks.as\\_strided)"
      ]
    },
    {
      "cell_type": "code",
      "execution_count": 81,
      "metadata": {
        "id": "_YVI5lv_iaW7"
      },
      "outputs": [],
      "source": [
        ""
      ]
    },
    {
      "cell_type": "markdown",
      "metadata": {
        "id": "cKsn5q2viaW8"
      },
      "source": [
        "#### 85. Create a 2D array subclass such that Z\\[i,j\\] == Z\\[j,i\\] (★★★) \n",
        "(**hint**: class method)"
      ]
    },
    {
      "cell_type": "code",
      "execution_count": 81,
      "metadata": {
        "id": "vyqmBv6SiaW8"
      },
      "outputs": [],
      "source": [
        ""
      ]
    },
    {
      "cell_type": "markdown",
      "metadata": {
        "id": "ayjFd920iaW8"
      },
      "source": [
        "#### 86. Consider a set of p matrices wich shape (n,n) and a set of p vectors with shape (n,1). How to compute the sum of of the p matrix products at once? (result has shape (n,1)) (★★★) \n",
        "(**hint**: np.tensordot)"
      ]
    },
    {
      "cell_type": "code",
      "execution_count": 81,
      "metadata": {
        "id": "IU97jwh6iaW9"
      },
      "outputs": [],
      "source": [
        ""
      ]
    },
    {
      "cell_type": "markdown",
      "metadata": {
        "id": "JVUHYLTIiaW9"
      },
      "source": [
        "#### 87. Consider a 16x16 array, how to get the block-sum (block size is 4x4)? (★★★) \n",
        "(**hint**: np.add.reduceat)"
      ]
    },
    {
      "cell_type": "code",
      "execution_count": 81,
      "metadata": {
        "id": "IE45VsXliaXC"
      },
      "outputs": [],
      "source": [
        ""
      ]
    },
    {
      "cell_type": "markdown",
      "metadata": {
        "id": "WM-5HRZRiaXD"
      },
      "source": [
        "#### 88. How to implement the Game of Life using numpy arrays? (★★★)"
      ]
    },
    {
      "cell_type": "code",
      "execution_count": 81,
      "metadata": {
        "id": "H6wodnI1iaXD"
      },
      "outputs": [],
      "source": [
        ""
      ]
    },
    {
      "cell_type": "markdown",
      "metadata": {
        "id": "YY60vfC0iaXD"
      },
      "source": [
        "#### 89. How to get the n largest values of an array (★★★) \n",
        "(**hint**: np.argsort | np.argpartition)"
      ]
    },
    {
      "cell_type": "code",
      "execution_count": 81,
      "metadata": {
        "id": "nJ5H3UNeiaXE"
      },
      "outputs": [],
      "source": [
        ""
      ]
    },
    {
      "cell_type": "markdown",
      "metadata": {
        "id": "pAo0LjwFiaXE"
      },
      "source": [
        "#### 90. Given an arbitrary number of vectors, build the cartesian product (every combinations of every item) (★★★) \n",
        "(**hint**: np.indices)"
      ]
    },
    {
      "cell_type": "code",
      "execution_count": 81,
      "metadata": {
        "scrolled": true,
        "id": "MXFsoJZwiaXE"
      },
      "outputs": [],
      "source": [
        ""
      ]
    },
    {
      "cell_type": "markdown",
      "metadata": {
        "id": "zDdXjlw8iaXE"
      },
      "source": [
        "#### 91. How to create a record array from a regular array? (★★★) \n",
        "(**hint**: np.core.records.fromarrays)"
      ]
    },
    {
      "cell_type": "code",
      "execution_count": 81,
      "metadata": {
        "id": "NLN44pNqiaXE"
      },
      "outputs": [],
      "source": [
        ""
      ]
    },
    {
      "cell_type": "markdown",
      "metadata": {
        "id": "ilo-XPumiaXF"
      },
      "source": [
        "#### 92. Consider a large vector Z, compute Z to the power of 3 using 3 different methods (★★★) \n",
        "(**hint**: np.power, \\*, np.einsum)"
      ]
    },
    {
      "cell_type": "code",
      "execution_count": 81,
      "metadata": {
        "id": "BlPh-cIgiaXF"
      },
      "outputs": [],
      "source": [
        ""
      ]
    },
    {
      "cell_type": "markdown",
      "metadata": {
        "id": "nX_ynm5iiaXF"
      },
      "source": [
        "#### 93. Consider two arrays A and B of shape (8,3) and (2,2). How to find rows of A that contain elements of each row of B regardless of the order of the elements in B? (★★★) \n",
        "(**hint**: np.where)"
      ]
    },
    {
      "cell_type": "code",
      "execution_count": 81,
      "metadata": {
        "id": "EvDW3QzwiaXF"
      },
      "outputs": [],
      "source": [
        ""
      ]
    },
    {
      "cell_type": "markdown",
      "metadata": {
        "id": "b39WiKEziaXF"
      },
      "source": [
        "#### 94. Considering a 10x3 matrix, extract rows with unequal values (e.g. \\[2,2,3\\]) (★★★)"
      ]
    },
    {
      "cell_type": "code",
      "execution_count": 81,
      "metadata": {
        "id": "CErbzspYiaXG"
      },
      "outputs": [],
      "source": [
        ""
      ]
    },
    {
      "cell_type": "markdown",
      "metadata": {
        "id": "iY7vt2gyiaXG"
      },
      "source": [
        "#### 95. Convert a vector of ints into a matrix binary representation (★★★) \n",
        "(**hint**: np.unpackbits)"
      ]
    },
    {
      "cell_type": "code",
      "execution_count": 81,
      "metadata": {
        "id": "IBhraJk2iaXG"
      },
      "outputs": [],
      "source": [
        ""
      ]
    },
    {
      "cell_type": "markdown",
      "metadata": {
        "id": "bIqrj1CQiaXG"
      },
      "source": [
        "#### 96. Given a two dimensional array, how to extract unique rows? (★★★) \n",
        "(**hint**: np.ascontiguousarray)"
      ]
    },
    {
      "cell_type": "code",
      "execution_count": 81,
      "metadata": {
        "id": "asE0HHApiaXG"
      },
      "outputs": [],
      "source": [
        ""
      ]
    },
    {
      "cell_type": "markdown",
      "metadata": {
        "id": "deA99hITiaXH"
      },
      "source": [
        "#### 97. Considering 2 vectors A & B, write the einsum equivalent of inner, outer, sum, and mul function (★★★) \n",
        "(**hint**: np.einsum)"
      ]
    },
    {
      "cell_type": "code",
      "execution_count": 81,
      "metadata": {
        "id": "t5YpyUakiaXI"
      },
      "outputs": [],
      "source": [
        ""
      ]
    },
    {
      "cell_type": "markdown",
      "metadata": {
        "id": "333mmfj2iaXI"
      },
      "source": [
        "#### 98. Considering a path described by two vectors (X,Y), how to sample it using equidistant samples (★★★)? \n",
        "(**hint**: np.cumsum, np.interp)"
      ]
    },
    {
      "cell_type": "code",
      "execution_count": 81,
      "metadata": {
        "collapsed": true,
        "id": "Dbl2f93piaXI"
      },
      "outputs": [],
      "source": [
        ""
      ]
    },
    {
      "cell_type": "markdown",
      "metadata": {
        "id": "1Me8OUrAiaXI"
      },
      "source": [
        "#### 99. Given an integer n and a 2D array X, select from X the rows which can be interpreted as draws from a multinomial distribution with n degrees, i.e., the rows which only contain integers and which sum to n. (★★★) \n",
        "(**hint**: np.logical\\_and.reduce, np.mod)"
      ]
    },
    {
      "cell_type": "code",
      "execution_count": 81,
      "metadata": {
        "id": "suubfqEAiaXI"
      },
      "outputs": [],
      "source": [
        ""
      ]
    },
    {
      "cell_type": "markdown",
      "metadata": {
        "id": "RoMZrnuYiaXI"
      },
      "source": [
        "#### 100. Compute bootstrapped 95% confidence intervals for the mean of a 1D array X (i.e., resample the elements of an array with replacement N times, compute the mean of each sample, and then compute percentiles over the means). (★★★) \n",
        "(**hint**: np.percentile)"
      ]
    },
    {
      "cell_type": "code",
      "execution_count": 81,
      "metadata": {
        "id": "yY7iDkv-iaXJ"
      },
      "outputs": [],
      "source": [
        ""
      ]
    }
  ],
  "metadata": {
    "kernelspec": {
      "display_name": "Python 3",
      "language": "python",
      "name": "python3"
    },
    "language_info": {
      "codemirror_mode": {
        "name": "ipython",
        "version": 3
      },
      "file_extension": ".py",
      "mimetype": "text/x-python",
      "name": "python",
      "nbconvert_exporter": "python",
      "pygments_lexer": "ipython3",
      "version": "3.8.3"
    },
    "colab": {
      "name": "Numpy_tasks.ipynb",
      "provenance": [],
      "collapsed_sections": [
        "PGLVxVdAiaWQ",
        "osQQxZSpiaWR",
        "q4OxWiWBiaWS",
        "iJVtT9INiaWT",
        "dP9vwI32iaWU",
        "9QlB2_mYiaWU",
        "XMN08B0UiaWV",
        "hk8lUoCziaWV",
        "WC_FDauriaWW",
        "gtq7I2HLiaWW",
        "1HxAiqk9iaWX",
        "D-3TGyHIiaWY",
        "S6FDbLuCiaWZ",
        "RWf4NdvDiaWZ",
        "VDMwhUUfiaWa",
        "9qiiTZRCiaWa",
        "ZXNQRXVsiaWb",
        "-BRg86SViaWb",
        "JHFJA9AqiaWc",
        "aWpqYBvLiaWd",
        "X2Q3d0kniaWe",
        "BQH2acmZiaWe",
        "jba-I_TziaWj",
        "khmumEcXiaWk",
        "2Q29DiteiaWk",
        "rsPRQUMWiaWk",
        "co7KQz2viaWl",
        "XFJzDJFsiaWl",
        "A_45DyQtiaWm",
        "V0f-ywOQiaWm",
        "AejSYFlwiaWn",
        "9KBuNDYjiaWn",
        "rvkuae-9iaWo",
        "-8luA1rYiaWo",
        "s9DD7SEsiaWo",
        "VgukrSB8iaWp",
        "O4flq8R1iaWq",
        "9mg_cqH6iaWq",
        "6uh3dlPOiaWr",
        "ZbTBmPV6iaWr",
        "Ru0_a6bEiaWs",
        "ua3RYvcviaWs",
        "0dPIBD9qiaWt",
        "IN85F_GpiaWt",
        "zBvZNPZKiaWu",
        "VILwYCpxiaWu",
        "iuSRq9FPiaWu",
        "OzctjNrDiaWv",
        "F7e9af0IiaWv",
        "q-4ZV_afiaWw",
        "nCvImJHDiaWw",
        "tdn2bWPQiaWx",
        "UcssAEJjiaWy",
        "ICmfksC6iaWz",
        "bJgMQwHwiaWz",
        "LFDgIojJiaW1",
        "3qCyQfXhiaW2",
        "xV5aagD7iaW3",
        "4lajvBUwiaW3",
        "J0Prb9FhiaW3",
        "kNSG5wEwiaW4",
        "zG9fXkJZiaW4",
        "srFQc8_YiaW5",
        "UmEVT9poiaW5",
        "Ftz0Dlc4iaW6",
        "m29rGjjQiaW6",
        "3YRnT6Z-iaW7",
        "A6e9MTcWiaW7",
        "cKsn5q2viaW8",
        "ayjFd920iaW8",
        "JVUHYLTIiaW9",
        "WM-5HRZRiaXD",
        "YY60vfC0iaXD",
        "pAo0LjwFiaXE",
        "zDdXjlw8iaXE",
        "ilo-XPumiaXF",
        "nX_ynm5iiaXF",
        "b39WiKEziaXF",
        "iY7vt2gyiaXG",
        "bIqrj1CQiaXG",
        "deA99hITiaXH",
        "333mmfj2iaXI",
        "1Me8OUrAiaXI",
        "RoMZrnuYiaXI"
      ],
      "include_colab_link": true
    }
  },
  "nbformat": 4,
  "nbformat_minor": 0
}
