{
  "cells": [
    {
      "cell_type": "markdown",
      "metadata": {
        "id": "view-in-github",
        "colab_type": "text"
      },
      "source": [
        "<a href=\"https://colab.research.google.com/github/Akashkunwar/Dscourses/blob/main/Guvi/Assignment/Task%206/Assignment_5_6_7.ipynb\" target=\"_parent\"><img src=\"https://colab.research.google.com/assets/colab-badge.svg\" alt=\"Open In Colab\"/></a>"
      ]
    },
    {
      "cell_type": "code",
      "execution_count": 10,
      "metadata": {
        "id": "7JBvfFg43BnK"
      },
      "outputs": [],
      "source": [
        "import pandas as pd\n",
        "import matplotlib.pyplot as plt\n",
        "import numpy as np\n",
        "from sklearn import linear_model\n",
        "import warnings\n",
        "warnings.filterwarnings('ignore')"
      ]
    },
    {
      "cell_type": "markdown",
      "metadata": {
        "id": "6R6yr0DT3BnP"
      },
      "source": [
        "# Assignment5\n"
      ]
    },
    {
      "cell_type": "markdown",
      "metadata": {
        "id": "0UD-nIOm3BnQ"
      },
      "source": [
        "## Ground Cricket Chirps\n",
        "\n",
        "In _The Song of Insects_ (1948) by George W. Pierce, Pierce mechanically measured the frequency (the number of wing vibrations per second) of chirps (or pulses of sound) made by a striped ground cricket, at various ground temperatures.  Since crickets are ectotherms (cold-blooded), the rate of their physiological processes and their overall metabolism are influenced by temperature.  Consequently, there is reason to believe that temperature would have a profound effect on aspects of their behavior, such as chirp frequency.\n",
        "\n",
        "In general, it was found that crickets did not sing at temperatures colder than 60º F. or warmer than 100º F."
      ]
    },
    {
      "cell_type": "markdown",
      "source": [
        "### Tasks\n",
        "\n",
        "1. Find the linear regression equation for this data.\n",
        "2. Chart the original data and the equation on the chart.\n",
        "3. Find the equation's $R^2$ score (use the `.score` method) to determine whether the\n",
        "equation is a good fit for this data. (0.8 and greater is considered a strong correlation.)\n",
        "4. Extrapolate data:  If the ground temperature reached 95, then at what approximate rate would you expect the crickets to be chirping?\n",
        "5. Interpolate data:  With a listening device, you discovered that on a particular morning the crickets were chirping at a rate of 18 chirps per second.  What was the approximate ground temperature that morning? "
      ],
      "metadata": {
        "id": "QK3-jCk4Lcyn"
      }
    },
    {
      "cell_type": "code",
      "execution_count": 11,
      "metadata": {
        "id": "dnz_mSze3BnR"
      },
      "outputs": [],
      "source": [
        "ground_cricket_data = {\"Chirps/Second\": [20.0, 16.0, 19.8, 18.4, 17.1, 15.5, 14.7,\n",
        "                                         15.7, 15.4, 16.3, 15.0, 17.2, 16.0, 17.0,\n",
        "                                         14.4],\n",
        "                       \"Ground Temperature\": [88.6, 71.6, 93.3, 84.3, 80.6, 75.2, 69.7,\n",
        "                                              71.6, 69.4, 83.3, 79.6, 82.6, 80.6, 83.5,\n",
        "                                              76.3]}\n",
        "df = pd.DataFrame(ground_cricket_data)"
      ]
    },
    {
      "cell_type": "code",
      "source": [
        "df.plot(x='Ground Temperature', y='Chirps/Second', style='o')\n",
        "plt.title('Ground Temperature vs Chirps/Second')\n",
        "plt.xlabel('Ground Temperature')\n",
        "plt.ylabel('Chirps/Second')\n",
        "plt.show()"
      ],
      "metadata": {
        "colab": {
          "base_uri": "https://localhost:8080/",
          "height": 295
        },
        "id": "VoD68C-zLWj-",
        "outputId": "725bd2fe-cd4f-4d31-e657-04f478d17cef"
      },
      "execution_count": 12,
      "outputs": [
        {
          "output_type": "display_data",
          "data": {
            "text/plain": [
              "<Figure size 432x288 with 1 Axes>"
            ],
            "image/png": "[encoded data removed]"
          },
          "metadata": {
            "needs_background": "light"
          }
        }
      ]
    },
    {
      "cell_type": "code",
      "source": [
        "df.corr().style.background_gradient(cmap='coolwarm')"
      ],
      "metadata": {
        "colab": {
          "base_uri": "https://localhost:8080/",
          "height": 112
        },
        "id": "Dti63cnwNaXK",
        "outputId": "9320877b-3d59-4517-cfa5-054d21778b3f"
      },
      "execution_count": 13,
      "outputs": [
        {
          "output_type": "execute_result",
          "data": {
            "text/plain": [
              "<pandas.io.formats.style.Styler at 0x7f75854f7710>"
            ],
            "text/html": [
              "<style type=\"text/css\">\n",
              "#T_a25b4_row0_col0, #T_a25b4_row1_col1 {\n",
              "  background-color: #b40426;\n",
              "  color: #f1f1f1;\n",
              "}\n",
              "#T_a25b4_row0_col1, #T_a25b4_row1_col0 {\n",
              "  background-color: #3b4cc0;\n",
              "  color: #f1f1f1;\n",
              "}\n",
              "</style>\n",
              "<table id=\"T_a25b4_\" class=\"dataframe\">\n",
              "  <thead>\n",
              "    <tr>\n",
              "      <th class=\"blank level0\" >&nbsp;</th>\n",
              "      <th class=\"col_heading level0 col0\" >Chirps/Second</th>\n",
              "      <th class=\"col_heading level0 col1\" >Ground Temperature</th>\n",
              "    </tr>\n",
              "  </thead>\n",
              "  <tbody>\n",
              "    <tr>\n",
              "      <th id=\"T_a25b4_level0_row0\" class=\"row_heading level0 row0\" >Chirps/Second</th>\n",
              "      <td id=\"T_a25b4_row0_col0\" class=\"data row0 col0\" >1.000000</td>\n",
              "      <td id=\"T_a25b4_row0_col1\" class=\"data row0 col1\" >0.832042</td>\n",
              "    </tr>\n",
              "    <tr>\n",
              "      <th id=\"T_a25b4_level0_row1\" class=\"row_heading level0 row1\" >Ground Temperature</th>\n",
              "      <td id=\"T_a25b4_row1_col0\" class=\"data row1 col0\" >0.832042</td>\n",
              "      <td id=\"T_a25b4_row1_col1\" class=\"data row1 col1\" >1.000000</td>\n",
              "    </tr>\n",
              "  </tbody>\n",
              "</table>\n"
            ]
          },
          "metadata": {},
          "execution_count": 13
        }
      ]
    },
    {
      "cell_type": "code",
      "source": [
        "x = df['Ground Temperature'].to_frame()\n",
        "y = df['Chirps/Second']\n",
        "model = linear_model.LinearRegression()\n",
        "model.fit(x, y)\n",
        "print(\"1. Linear regression equation for Ground Temperature and Chirps/Second is : \"'Y = %.2fx + %.2f' % (model.coef_, model.intercept_))\n",
        "plt.scatter(x, y, color='blue')\n",
        "plt.plot(x, model.predict(x), color='red')\n",
        "plt.show(print(\"2.\"))\n",
        "print('3. R^2 Score : ', model.score(x, y))\n",
        "print(\"4. If the ground temperature reached 95, then at %.4fat rate the crickets will do chirping.\"% model.predict([[95]]))\n",
        "print(\"5. When crickets were chirping at a rate of 18 chirps/s then the approx ground temp should be : \",(18 - model.intercept_) / model.coef_[0])"
      ],
      "metadata": {
        "colab": {
          "base_uri": "https://localhost:8080/",
          "height": 354
        },
        "id": "_1yOTnI4bh0_",
        "outputId": "321d995a-f024-413b-90e5-14215f81c7ca"
      },
      "execution_count": 14,
      "outputs": [
        {
          "output_type": "stream",
          "name": "stdout",
          "text": [
            "1. Linear regression equation for Ground Temperature and Chirps/Second is : Y = 0.20x + 0.46\n",
            "2.\n"
          ]
        },
        {
          "output_type": "display_data",
          "data": {
            "text/plain": [
              "<Figure size 432x288 with 1 Axes>"
            ],
            "image/png": "[encoded data removed]"
          },
          "metadata": {
            "needs_background": "light"
          }
        },
        {
          "output_type": "stream",
          "name": "stdout",
          "text": [
            "3. R^2 Score :  0.6922946529146998\n",
            "4. If the ground temperature reached 95, then at 19.7443at rate the crickets will do chirping.\n",
            "5. When crickets were chirping at a rate of 18 chirps/s then the approx ground temp should be :  86.40743134548568\n"
          ]
        }
      ]
    },
    {
      "cell_type": "markdown",
      "metadata": {
        "id": "b979We9N3BnS"
      },
      "source": [
        "# Assignment6"
      ]
    },
    {
      "cell_type": "markdown",
      "metadata": {
        "id": "g7uN3MW93BnT"
      },
      "source": [
        "## Brain vs. Body Weight\n",
        "\n",
        "In the file `brain_body.txt`, the average brain and body weight for a number of mammal species are recorded. Load this data into a Pandas data frame.\n",
        "\n",
        "### Tasks\n",
        "\n",
        "1. Find the linear regression equation for this data for brain weight to body weight.\n",
        "2. Chart the original data and the equation on the chart.\n",
        "3. Find the equation's $R^2$ score (use the `.score` method) to determine whether the\n",
        "equation is a good fit for this data. (0.8 and greater is considered a strong correlation.)"
      ]
    },
    {
      "cell_type": "code",
      "execution_count": 15,
      "metadata": {
        "id": "JG3GRigf3BnU"
      },
      "outputs": [],
      "source": [
        "df = pd.read_fwf(\"https://raw.githubusercontent.com/Akashkunwar/Dscourses/main/Guvi/Assignment/Task%206/data/brain_body.txt\")"
      ]
    },
    {
      "cell_type": "code",
      "source": [
        "df.corr().style.background_gradient(cmap='coolwarm')"
      ],
      "metadata": {
        "colab": {
          "base_uri": "https://localhost:8080/",
          "height": 112
        },
        "id": "njYvtd9MS6at",
        "outputId": "aca2acd2-2982-4b7f-efcb-44e28f0fa422"
      },
      "execution_count": 16,
      "outputs": [
        {
          "output_type": "execute_result",
          "data": {
            "text/plain": [
              "<pandas.io.formats.style.Styler at 0x7f7585a593d0>"
            ],
            "text/html": [
              "<style type=\"text/css\">\n",
              "#T_e9825_row0_col0, #T_e9825_row1_col1 {\n",
              "  background-color: #b40426;\n",
              "  color: #f1f1f1;\n",
              "}\n",
              "#T_e9825_row0_col1, #T_e9825_row1_col0 {\n",
              "  background-color: #3b4cc0;\n",
              "  color: #f1f1f1;\n",
              "}\n",
              "</style>\n",
              "<table id=\"T_e9825_\" class=\"dataframe\">\n",
              "  <thead>\n",
              "    <tr>\n",
              "      <th class=\"blank level0\" >&nbsp;</th>\n",
              "      <th class=\"col_heading level0 col0\" >Brain</th>\n",
              "      <th class=\"col_heading level0 col1\" >Body</th>\n",
              "    </tr>\n",
              "  </thead>\n",
              "  <tbody>\n",
              "    <tr>\n",
              "      <th id=\"T_e9825_level0_row0\" class=\"row_heading level0 row0\" >Brain</th>\n",
              "      <td id=\"T_e9825_row0_col0\" class=\"data row0 col0\" >1.000000</td>\n",
              "      <td id=\"T_e9825_row0_col1\" class=\"data row0 col1\" >0.934164</td>\n",
              "    </tr>\n",
              "    <tr>\n",
              "      <th id=\"T_e9825_level0_row1\" class=\"row_heading level0 row1\" >Body</th>\n",
              "      <td id=\"T_e9825_row1_col0\" class=\"data row1 col0\" >0.934164</td>\n",
              "      <td id=\"T_e9825_row1_col1\" class=\"data row1 col1\" >1.000000</td>\n",
              "    </tr>\n",
              "  </tbody>\n",
              "</table>\n"
            ]
          },
          "metadata": {},
          "execution_count": 16
        }
      ]
    },
    {
      "cell_type": "code",
      "source": [
        "x = df['Brain'].to_frame()\n",
        "y = df['Body']\n",
        "model = linear_model.LinearRegression()\n",
        "model.fit(x, y)\n",
        "print(\"1. Linear regression equation for brain weight to body weight is : \"'Y = %.2fx + %.2f' % (model.coef_, model.intercept_))\n",
        "plt.scatter(x, y, color='blue')\n",
        "plt.plot(x, model.predict(x), color='red')\n",
        "plt.show(print(\"2.\"))\n",
        "print('3. R^2 Score : ', model.score(x, y))"
      ],
      "metadata": {
        "colab": {
          "base_uri": "https://localhost:8080/",
          "height": 318
        },
        "id": "2bAejoT0nSTa",
        "outputId": "84c4e0e1-ead7-4354-f09b-8416703679dc"
      },
      "execution_count": 17,
      "outputs": [
        {
          "output_type": "stream",
          "name": "stdout",
          "text": [
            "1. Linear regression equation for brain weight to body weight is : Y = 0.97x + 91.00\n",
            "2.\n"
          ]
        },
        {
          "output_type": "display_data",
          "data": {
            "text/plain": [
              "<Figure size 432x288 with 1 Axes>"
            ],
            "image/png": "[encoded data removed]"
          },
          "metadata": {
            "needs_background": "light"
          }
        },
        {
          "output_type": "stream",
          "name": "stdout",
          "text": [
            "3. R^2 Score :  0.8726620843043331\n"
          ]
        }
      ]
    },
    {
      "cell_type": "markdown",
      "metadata": {
        "id": "9Al3kjX73BnU"
      },
      "source": [
        "# Assignment7"
      ]
    },
    {
      "cell_type": "markdown",
      "metadata": {
        "id": "Z_ch2C_n3BnV"
      },
      "source": [
        "## Salary Discrimination\n",
        "\n",
        "The file `salary.txt` contains data for 52 tenure-track professors at a small Midwestern college. This data was used in legal proceedings in the 1980s about discrimination against women in salary.\n",
        "\n",
        "The data in the file, by column:\n",
        "\n",
        "1. Sex. 1 for female, 0 for male.\n",
        "2. Rank. 1 for assistant professor, 2 for associate professor, 3 for full professor.\n",
        "3. Year. Number of years in current rank.\n",
        "4. Degree. Highest degree. 1 for doctorate, 0 for master's.\n",
        "5. YSdeg. Years since highest degree was earned.\n",
        "6. Salary. Salary/year in dollars.\n",
        "\n",
        "### Tasks\n",
        "\n",
        "1. Find the linear regression equation for this data using columns 1-5 to column 6.\n",
        "2. Find the selection of columns with the best $R^2$ score.\n",
        "3. Report whether sex is a factor in salary."
      ]
    },
    {
      "cell_type": "code",
      "execution_count": 18,
      "metadata": {
        "id": "haC9E28i3BnV"
      },
      "outputs": [],
      "source": [
        "df = pd.read_fwf(\"https://raw.githubusercontent.com/Akashkunwar/Dscourses/main/Guvi/Assignment/Task%206/data/salary.txt\",\n",
        "                 header=None, \n",
        "                 names=[\"Sex\", \"Rank\", \"Year\", \"Degree\", \"YSdeg\", \"Salary\"])"
      ]
    },
    {
      "cell_type": "code",
      "source": [
        "df.corr().style.background_gradient(cmap='coolwarm')"
      ],
      "metadata": {
        "id": "3hH7nLVNY7Zu",
        "colab": {
          "base_uri": "https://localhost:8080/",
          "height": 237
        },
        "outputId": "1834d7db-9034-43ed-defb-e5f7caf3cac8"
      },
      "execution_count": 19,
      "outputs": [
        {
          "output_type": "execute_result",
          "data": {
            "text/plain": [
              "<pandas.io.formats.style.Styler at 0x7f7585469d90>"
            ],
            "text/html": [
              "<style type=\"text/css\">\n",
              "#T_c99c8_row0_col0, #T_c99c8_row1_col1, #T_c99c8_row2_col2, #T_c99c8_row3_col3, #T_c99c8_row4_col4, #T_c99c8_row5_col5 {\n",
              "  background-color: #b40426;\n",
              "  color: #f1f1f1;\n",
              "}\n",
              "#T_c99c8_row0_col1, #T_c99c8_row0_col2, #T_c99c8_row0_col5, #T_c99c8_row2_col0, #T_c99c8_row3_col4, #T_c99c8_row4_col3 {\n",
              "  background-color: #3b4cc0;\n",
              "  color: #f1f1f1;\n",
              "}\n",
              "#T_c99c8_row0_col3 {\n",
              "  background-color: #b9d0f9;\n",
              "  color: #000000;\n",
              "}\n",
              "#T_c99c8_row0_col4 {\n",
              "  background-color: #93b5fe;\n",
              "  color: #000000;\n",
              "}\n",
              "#T_c99c8_row1_col0 {\n",
              "  background-color: #5b7ae5;\n",
              "  color: #f1f1f1;\n",
              "}\n",
              "#T_c99c8_row1_col2 {\n",
              "  background-color: #f6bfa6;\n",
              "  color: #000000;\n",
              "}\n",
              "#T_c99c8_row1_col3 {\n",
              "  background-color: #a3c2fe;\n",
              "  color: #000000;\n",
              "}\n",
              "#T_c99c8_row1_col4 {\n",
              "  background-color: #ee8669;\n",
              "  color: #f1f1f1;\n",
              "}\n",
              "#T_c99c8_row1_col5, #T_c99c8_row5_col1 {\n",
              "  background-color: #d85646;\n",
              "  color: #f1f1f1;\n",
              "}\n",
              "#T_c99c8_row2_col1 {\n",
              "  background-color: #f2cbb7;\n",
              "  color: #000000;\n",
              "}\n",
              "#T_c99c8_row2_col3 {\n",
              "  background-color: #85a8fc;\n",
              "  color: #f1f1f1;\n",
              "}\n",
              "#T_c99c8_row2_col4 {\n",
              "  background-color: #f39778;\n",
              "  color: #000000;\n",
              "}\n",
              "#T_c99c8_row2_col5 {\n",
              "  background-color: #f39577;\n",
              "  color: #000000;\n",
              "}\n",
              "#T_c99c8_row3_col0 {\n",
              "  background-color: #a9c6fd;\n",
              "  color: #000000;\n",
              "}\n",
              "#T_c99c8_row3_col1 {\n",
              "  background-color: #7295f4;\n",
              "  color: #f1f1f1;\n",
              "}\n",
              "#T_c99c8_row3_col2 {\n",
              "  background-color: #7093f3;\n",
              "  color: #f1f1f1;\n",
              "}\n",
              "#T_c99c8_row3_col5 {\n",
              "  background-color: #688aef;\n",
              "  color: #f1f1f1;\n",
              "}\n",
              "#T_c99c8_row4_col0 {\n",
              "  background-color: #80a3fa;\n",
              "  color: #f1f1f1;\n",
              "}\n",
              "#T_c99c8_row4_col1 {\n",
              "  background-color: #f4987a;\n",
              "  color: #000000;\n",
              "}\n",
              "#T_c99c8_row4_col2 {\n",
              "  background-color: #f59f80;\n",
              "  color: #000000;\n",
              "}\n",
              "#T_c99c8_row4_col5 {\n",
              "  background-color: #f59d7e;\n",
              "  color: #000000;\n",
              "}\n",
              "#T_c99c8_row5_col0 {\n",
              "  background-color: #5673e0;\n",
              "  color: #f1f1f1;\n",
              "}\n",
              "#T_c99c8_row5_col2 {\n",
              "  background-color: #f08b6e;\n",
              "  color: #f1f1f1;\n",
              "}\n",
              "#T_c99c8_row5_col3 {\n",
              "  background-color: #97b8ff;\n",
              "  color: #000000;\n",
              "}\n",
              "#T_c99c8_row5_col4 {\n",
              "  background-color: #f18d6f;\n",
              "  color: #f1f1f1;\n",
              "}\n",
              "</style>\n",
              "<table id=\"T_c99c8_\" class=\"dataframe\">\n",
              "  <thead>\n",
              "    <tr>\n",
              "      <th class=\"blank level0\" >&nbsp;</th>\n",
              "      <th class=\"col_heading level0 col0\" >Sex</th>\n",
              "      <th class=\"col_heading level0 col1\" >Rank</th>\n",
              "      <th class=\"col_heading level0 col2\" >Year</th>\n",
              "      <th class=\"col_heading level0 col3\" >Degree</th>\n",
              "      <th class=\"col_heading level0 col4\" >YSdeg</th>\n",
              "      <th class=\"col_heading level0 col5\" >Salary</th>\n",
              "    </tr>\n",
              "  </thead>\n",
              "  <tbody>\n",
              "    <tr>\n",
              "      <th id=\"T_c99c8_level0_row0\" class=\"row_heading level0 row0\" >Sex</th>\n",
              "      <td id=\"T_c99c8_row0_col0\" class=\"data row0 col0\" >1.000000</td>\n",
              "      <td id=\"T_c99c8_row0_col1\" class=\"data row0 col1\" >-0.230411</td>\n",
              "      <td id=\"T_c99c8_row0_col2\" class=\"data row0 col2\" >-0.379404</td>\n",
              "      <td id=\"T_c99c8_row0_col3\" class=\"data row0 col3\" >0.077112</td>\n",
              "      <td id=\"T_c99c8_row0_col4\" class=\"data row0 col4\" >-0.088288</td>\n",
              "      <td id=\"T_c99c8_row0_col5\" class=\"data row0 col5\" >-0.252782</td>\n",
              "    </tr>\n",
              "    <tr>\n",
              "      <th id=\"T_c99c8_level0_row1\" class=\"row_heading level0 row1\" >Rank</th>\n",
              "      <td id=\"T_c99c8_row1_col0\" class=\"data row1 col0\" >-0.230411</td>\n",
              "      <td id=\"T_c99c8_row1_col1\" class=\"data row1 col1\" >1.000000</td>\n",
              "      <td id=\"T_c99c8_row1_col2\" class=\"data row1 col2\" >0.507980</td>\n",
              "      <td id=\"T_c99c8_row1_col3\" class=\"data row1 col3\" >-0.014564</td>\n",
              "      <td id=\"T_c99c8_row1_col4\" class=\"data row1 col4\" >0.695724</td>\n",
              "      <td id=\"T_c99c8_row1_col5\" class=\"data row1 col5\" >0.867488</td>\n",
              "    </tr>\n",
              "    <tr>\n",
              "      <th id=\"T_c99c8_level0_row2\" class=\"row_heading level0 row2\" >Year</th>\n",
              "      <td id=\"T_c99c8_row2_col0\" class=\"data row2 col0\" >-0.379404</td>\n",
              "      <td id=\"T_c99c8_row2_col1\" class=\"data row2 col1\" >0.507980</td>\n",
              "      <td id=\"T_c99c8_row2_col2\" class=\"data row2 col2\" >1.000000</td>\n",
              "      <td id=\"T_c99c8_row2_col3\" class=\"data row2 col3\" >-0.143377</td>\n",
              "      <td id=\"T_c99c8_row2_col4\" class=\"data row2 col4\" >0.638776</td>\n",
              "      <td id=\"T_c99c8_row2_col5\" class=\"data row2 col5\" >0.700669</td>\n",
              "    </tr>\n",
              "    <tr>\n",
              "      <th id=\"T_c99c8_level0_row3\" class=\"row_heading level0 row3\" >Degree</th>\n",
              "      <td id=\"T_c99c8_row3_col0\" class=\"data row3 col0\" >0.077112</td>\n",
              "      <td id=\"T_c99c8_row3_col1\" class=\"data row3 col1\" >-0.014564</td>\n",
              "      <td id=\"T_c99c8_row3_col2\" class=\"data row3 col2\" >-0.143377</td>\n",
              "      <td id=\"T_c99c8_row3_col3\" class=\"data row3 col3\" >1.000000</td>\n",
              "      <td id=\"T_c99c8_row3_col4\" class=\"data row3 col4\" >-0.482836</td>\n",
              "      <td id=\"T_c99c8_row3_col5\" class=\"data row3 col5\" >-0.069726</td>\n",
              "    </tr>\n",
              "    <tr>\n",
              "      <th id=\"T_c99c8_level0_row4\" class=\"row_heading level0 row4\" >YSdeg</th>\n",
              "      <td id=\"T_c99c8_row4_col0\" class=\"data row4 col0\" >-0.088288</td>\n",
              "      <td id=\"T_c99c8_row4_col1\" class=\"data row4 col1\" >0.695724</td>\n",
              "      <td id=\"T_c99c8_row4_col2\" class=\"data row4 col2\" >0.638776</td>\n",
              "      <td id=\"T_c99c8_row4_col3\" class=\"data row4 col3\" >-0.482836</td>\n",
              "      <td id=\"T_c99c8_row4_col4\" class=\"data row4 col4\" >1.000000</td>\n",
              "      <td id=\"T_c99c8_row4_col5\" class=\"data row4 col5\" >0.674854</td>\n",
              "    </tr>\n",
              "    <tr>\n",
              "      <th id=\"T_c99c8_level0_row5\" class=\"row_heading level0 row5\" >Salary</th>\n",
              "      <td id=\"T_c99c8_row5_col0\" class=\"data row5 col0\" >-0.252782</td>\n",
              "      <td id=\"T_c99c8_row5_col1\" class=\"data row5 col1\" >0.867488</td>\n",
              "      <td id=\"T_c99c8_row5_col2\" class=\"data row5 col2\" >0.700669</td>\n",
              "      <td id=\"T_c99c8_row5_col3\" class=\"data row5 col3\" >-0.069726</td>\n",
              "      <td id=\"T_c99c8_row5_col4\" class=\"data row5 col4\" >0.674854</td>\n",
              "      <td id=\"T_c99c8_row5_col5\" class=\"data row5 col5\" >1.000000</td>\n",
              "    </tr>\n",
              "  </tbody>\n",
              "</table>\n"
            ]
          },
          "metadata": {},
          "execution_count": 19
        }
      ]
    },
    {
      "cell_type": "code",
      "source": [
        "x = df[['Sex', 'Rank', 'Year', 'Degree', 'YSdeg']]\n",
        "y = df.Salary\n",
        "model = linear_model.LinearRegression()\n",
        "model.fit(x, y)\n",
        "print(\"\\n 1. model.coef_ : \")\n",
        "print(list(zip(x, model.coef_)))\n",
        "print(\"model.intercept_ : \",model.intercept_)\n",
        "print('\\n 2. R^2 Score : ', model.score(x, y))\n",
        "print(\"\\n 3. As you can see in correlation chart below there is -0.252782 correlation between Sex and Salary which is considered as week factor.\")\n",
        "print(df[[\"Sex\",\"Salary\"]].corr())"
      ],
      "metadata": {
        "colab": {
          "base_uri": "https://localhost:8080/"
        },
        "id": "dK6mWOWfrRoq",
        "outputId": "ebc78959-e5ee-4bb5-e858-d38e43bef94c"
      },
      "execution_count": 21,
      "outputs": [
        {
          "output_type": "stream",
          "name": "stdout",
          "text": [
            "\n",
            " 1. model.coef_ : \n",
            "[('Sex', 1241.792499601427), ('Rank', 5586.1814495214385), ('Year', 482.85976782882153), ('Degree', -1331.6440634059095), ('YSdeg', -128.79057354486122)]\n",
            "model.intercept_ :  11410.14654725559\n",
            "\n",
            " 2. R^2 Score :  0.8547180674410969\n",
            "\n",
            " 3. As you can see in correlation chart below there is -0.252782 correlation between Sex and Salary which is considered as week factor.\n",
            "             Sex    Salary\n",
            "Sex     1.000000 -0.252782\n",
            "Salary -0.252782  1.000000\n"
          ]
        }
      ]
    }
  ],
  "metadata": {
    "kernelspec": {
      "display_name": "Python 3",
      "language": "python",
      "name": "python3"
    },
    "language_info": {
      "codemirror_mode": {
        "name": "ipython",
        "version": 3
      },
      "file_extension": ".py",
      "mimetype": "text/x-python",
      "name": "python",
      "nbconvert_exporter": "python",
      "pygments_lexer": "ipython3",
      "version": "3.8.3"
    },
    "colab": {
      "name": "Assignment 5_6_7.ipynb",
      "provenance": [],
      "include_colab_link": true
    }
  },
  "nbformat": 4,
  "nbformat_minor": 0
}