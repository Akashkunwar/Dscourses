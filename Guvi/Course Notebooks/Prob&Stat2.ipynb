{
  "cells": [
    {
      "cell_type": "markdown",
      "metadata": {
        "id": "jtMd1nFRYH_R"
      },
      "source": [
        "# Bernoulli Distribution"
      ]
    },
    {
      "cell_type": "markdown",
      "metadata": {
        "id": "8btr6U0vYNvt"
      },
      "source": [
        "X = 0 -> with probability (1 - p) and \n",
        "X = 1 -> with probability p"
      ]
    },
    {
      "cell_type": "code",
      "execution_count": null,
      "metadata": {
        "id": "3m_0WiyoYK6M"
      },
      "outputs": [],
      "source": [
        "import numpy as np\n",
        "\n",
        "def bernoulli(p):\n",
        "  return np.random.choice([0,1],p = [(1-p),p])\n"
      ]
    },
    {
      "cell_type": "code",
      "execution_count": null,
      "metadata": {
        "colab": {
          "base_uri": "https://localhost:8080/"
        },
        "id": "KCCn4ihiYjnm",
        "outputId": "b6065354-7e35-4bf5-a583-1944aedf619a"
      },
      "outputs": [
        {
          "output_type": "execute_result",
          "data": {
            "text/plain": [
              "0"
            ]
          },
          "metadata": {},
          "execution_count": 42
        }
      ],
      "source": [
        "bernoulli(0.2)"
      ]
    },
    {
      "cell_type": "markdown",
      "metadata": {
        "id": "DjOf4-iBYvTy"
      },
      "source": [
        "let's calculate the mean of the distribution\n",
        "\n"
      ]
    },
    {
      "cell_type": "code",
      "execution_count": null,
      "metadata": {
        "colab": {
          "base_uri": "https://localhost:8080/"
        },
        "id": "5KxL7MthYtzm",
        "outputId": "7ceacabf-c363-4b46-f7f7-9c309e71625c"
      },
      "outputs": [
        {
          "output_type": "execute_result",
          "data": {
            "text/plain": [
              "0.49993"
            ]
          },
          "metadata": {},
          "execution_count": 45
        }
      ],
      "source": [
        "np.mean([bernoulli(0.5) for i in range(100000)])"
      ]
    },
    {
      "cell_type": "code",
      "execution_count": null,
      "metadata": {
        "colab": {
          "base_uri": "https://localhost:8080/"
        },
        "id": "_xAaVdQykO-n",
        "outputId": "19798161-5775-4398-ca7a-99cde11bb745"
      },
      "outputs": [
        {
          "data": {
            "text/plain": [
              "0.4999994958997459"
            ]
          },
          "execution_count": 24,
          "metadata": {},
          "output_type": "execute_result"
        }
      ],
      "source": [
        "np.std([bernoulli(0.5) for i in range(100000)])"
      ]
    },
    {
      "cell_type": "markdown",
      "metadata": {
        "id": "KIbDUe7LkUtL"
      },
      "source": [
        "# Binomial Distribution"
      ]
    },
    {
      "cell_type": "code",
      "execution_count": null,
      "metadata": {
        "id": "6OWypV75kWhJ"
      },
      "outputs": [],
      "source": [
        "def binomial(n, p):\n",
        "  return sum([bernoulli(p) for i in range(n)])"
      ]
    },
    {
      "cell_type": "code",
      "execution_count": null,
      "metadata": {
        "colab": {
          "base_uri": "https://localhost:8080/"
        },
        "id": "hWRZLKJfkf4r",
        "outputId": "7e029ac2-f438-4c64-b1c8-1255440a3be2"
      },
      "outputs": [
        {
          "output_type": "execute_result",
          "data": {
            "text/plain": [
              "3"
            ]
          },
          "metadata": {},
          "execution_count": 50
        }
      ],
      "source": [
        "binomial(10,0.2)"
      ]
    },
    {
      "cell_type": "code",
      "execution_count": null,
      "metadata": {
        "id": "ea6x_KkbkjZg"
      },
      "outputs": [],
      "source": [
        "results = np.array([binomial(20,0.5) for x in range(10000)])"
      ]
    },
    {
      "cell_type": "code",
      "execution_count": null,
      "metadata": {
        "colab": {
          "base_uri": "https://localhost:8080/",
          "height": 497
        },
        "id": "pz_dpn5Bkq8o",
        "outputId": "9d8bc8a3-a9dc-4435-a2e1-ae85a3bd2e95"
      },
      "outputs": [
        {
          "output_type": "execute_result",
          "data": {
            "text/plain": [
              "(array([  61.,  159., 1056., 1192., 3414., 1635., 1870.,  402.,  201.,\n",
              "          10.]),\n",
              " array([ 3. ,  4.5,  6. ,  7.5,  9. , 10.5, 12. , 13.5, 15. , 16.5, 18. ]),\n",
              " <a list of 10 Patch objects>)"
            ]
          },
          "metadata": {},
          "execution_count": 57
        },
        {
          "output_type": "display_data",
          "data": {
            "text/plain": [
              "<Figure size 720x504 with 1 Axes>"
            ],
            "image/png": "[encoded data removed]"
          },
          "metadata": {
            "needs_background": "light"
          }
        }
      ],
      "source": [
        "from matplotlib import pyplot as plt\n",
        "import numpy as np\n",
        "fig, ax = plt.subplots(figsize =(10, 7))\n",
        "ax.hist(results,bins = 10)"
      ]
    },
    {
      "cell_type": "code",
      "execution_count": null,
      "metadata": {
        "colab": {
          "base_uri": "https://localhost:8080/"
        },
        "id": "gs9_D9oulYG0",
        "outputId": "c7f6d631-6a88-4827-b85a-740143a9ac40"
      },
      "outputs": [
        {
          "data": {
            "text/plain": [
              "4.0244"
            ]
          },
          "execution_count": 29,
          "metadata": {},
          "output_type": "execute_result"
        }
      ],
      "source": [
        "np.mean(results)"
      ]
    },
    {
      "cell_type": "markdown",
      "metadata": {
        "id": "YhCJKdxBlcRA"
      },
      "source": [
        "# Binomial Approximation to Normal Distribution"
      ]
    },
    {
      "cell_type": "code",
      "execution_count": null,
      "metadata": {
        "id": "kmX_xzEelebD"
      },
      "outputs": [],
      "source": [
        "results = np.array([binomial(10000,0.4) for x in range(1000)])"
      ]
    },
    {
      "cell_type": "code",
      "execution_count": null,
      "metadata": {
        "colab": {
          "base_uri": "https://localhost:8080/",
          "height": 845
        },
        "id": "CdNCKAdJl6Au",
        "outputId": "aaabbef6-5329-48ae-b166-07c1deea8ebe"
      },
      "outputs": [
        {
          "output_type": "execute_result",
          "data": {
            "text/plain": [
              "(array([ 1.,  0.,  1.,  0.,  0.,  0.,  1.,  1.,  1.,  0.,  1.,  3.,  1.,\n",
              "         1.,  3.,  1.,  2.,  5.,  5.,  2.,  6.,  5.,  5., 10.,  3., 11.,\n",
              "         1., 10.,  5., 13.,  9., 14., 12., 16., 11., 15., 16., 25., 19.,\n",
              "        14., 20., 23., 16., 23., 33., 20., 27., 21., 29., 24., 19., 25.,\n",
              "        23., 21., 25., 31., 17., 18., 30., 29., 20., 14., 29., 15., 15.,\n",
              "        22., 16., 12., 15.,  6., 18., 12.,  9.,  8., 11.,  4.,  6.,  8.,\n",
              "         5.,  2.,  1.,  6.,  2.,  3.,  5.,  4.,  1.,  0.,  1.,  0.,  2.,\n",
              "         1.,  1.,  0.,  0.,  2.,  0.,  0.,  0.,  1.]),\n",
              " array([3835.  , 3838.27, 3841.54, 3844.81, 3848.08, 3851.35, 3854.62,\n",
              "        3857.89, 3861.16, 3864.43, 3867.7 , 3870.97, 3874.24, 3877.51,\n",
              "        3880.78, 3884.05, 3887.32, 3890.59, 3893.86, 3897.13, 3900.4 ,\n",
              "        3903.67, 3906.94, 3910.21, 3913.48, 3916.75, 3920.02, 3923.29,\n",
              "        3926.56, 3929.83, 3933.1 , 3936.37, 3939.64, 3942.91, 3946.18,\n",
              "        3949.45, 3952.72, 3955.99, 3959.26, 3962.53, 3965.8 , 3969.07,\n",
              "        3972.34, 3975.61, 3978.88, 3982.15, 3985.42, 3988.69, 3991.96,\n",
              "        3995.23, 3998.5 , 4001.77, 4005.04, 4008.31, 4011.58, 4014.85,\n",
              "        4018.12, 4021.39, 4024.66, 4027.93, 4031.2 , 4034.47, 4037.74,\n",
              "        4041.01, 4044.28, 4047.55, 4050.82, 4054.09, 4057.36, 4060.63,\n",
              "        4063.9 , 4067.17, 4070.44, 4073.71, 4076.98, 4080.25, 4083.52,\n",
              "        4086.79, 4090.06, 4093.33, 4096.6 , 4099.87, 4103.14, 4106.41,\n",
              "        4109.68, 4112.95, 4116.22, 4119.49, 4122.76, 4126.03, 4129.3 ,\n",
              "        4132.57, 4135.84, 4139.11, 4142.38, 4145.65, 4148.92, 4152.19,\n",
              "        4155.46, 4158.73, 4162.  ]),\n",
              " <a list of 100 Patch objects>)"
            ]
          },
          "metadata": {},
          "execution_count": 60
        },
        {
          "output_type": "display_data",
          "data": {
            "text/plain": [
              "<Figure size 720x504 with 1 Axes>"
            ],
            "image/png": "[encoded data removed]"
          },
          "metadata": {
            "needs_background": "light"
          }
        }
      ],
      "source": [
        "from matplotlib import pyplot as plt\n",
        "import numpy as np\n",
        "fig, ax = plt.subplots(figsize =(10, 7))\n",
        "ax.hist(results,bins = 100)"
      ]
    },
    {
      "cell_type": "code",
      "execution_count": null,
      "metadata": {
        "id": "eoPx0ZFDpvwR"
      },
      "outputs": [],
      "source": [
        "np.mean(results)"
      ]
    }
  ],
  "metadata": {
    "colab": {
      "collapsed_sections": [],
      "name": "Prob&Stat.ipynb",
      "provenance": []
    },
    "kernelspec": {
      "display_name": "Python 3",
      "name": "python3"
    },
    "language_info": {
      "name": "python"
    }
  },
  "nbformat": 4,
  "nbformat_minor": 0
}